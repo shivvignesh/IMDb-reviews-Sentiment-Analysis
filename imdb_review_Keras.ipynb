{
 "cells": [
  {
   "cell_type": "code",
   "execution_count": 1,
   "metadata": {
    "colab": {
     "base_uri": "https://localhost:8080/",
     "height": 34
    },
    "colab_type": "code",
    "id": "CjKhhQOI_tYG",
    "outputId": "2879fbdf-dcb5-47b4-a689-5629d8c927f5"
   },
   "outputs": [
    {
     "name": "stderr",
     "output_type": "stream",
     "text": [
      "Using TensorFlow backend.\n"
     ]
    }
   ],
   "source": [
    "import os \n",
    "import re\n",
    "\n",
    "import numpy as np\n",
    "import pandas as pd\n",
    "import matplotlib.pyplot as plt\n",
    "\n",
    "import nltk\n",
    "from nltk.stem.porter import *\n",
    "\n",
    "from sklearn.model_selection import train_test_split\n",
    "from sklearn.feature_extraction.text import CountVectorizer\n",
    "\n",
    "import keras\n",
    "from keras.models import Sequential\n",
    "from keras.layers import Dense"
   ]
  },
  {
   "cell_type": "code",
   "execution_count": 2,
   "metadata": {
    "colab": {
     "base_uri": "https://localhost:8080/",
     "height": 122
    },
    "colab_type": "code",
    "id": "-iFzqVZr_4d9",
    "outputId": "7c335527-c116-414d-f862-c140d89b1f81"
   },
   "outputs": [
    {
     "name": "stdout",
     "output_type": "stream",
     "text": [
      "Go to this URL in a browser: https://accounts.google.com/o/oauth2/auth?client_id=947318989803-6bn6qk8qdgf4n4g3pfee6491hc0brc4i.apps.googleusercontent.com&redirect_uri=urn%3Aietf%3Awg%3Aoauth%3A2.0%3Aoob&scope=email%20https%3A%2F%2Fwww.googleapis.com%2Fauth%2Fdocs.test%20https%3A%2F%2Fwww.googleapis.com%2Fauth%2Fdrive%20https%3A%2F%2Fwww.googleapis.com%2Fauth%2Fdrive.photos.readonly%20https%3A%2F%2Fwww.googleapis.com%2Fauth%2Fpeopleapi.readonly&response_type=code\n",
      "\n",
      "Enter your authorization code:\n",
      "··········\n",
      "Mounted at /content/gdrive\n"
     ]
    }
   ],
   "source": [
    "from google.colab import drive\n",
    "drive.mount('/content/gdrive')"
   ]
  },
  {
   "cell_type": "code",
   "execution_count": 0,
   "metadata": {
    "colab": {},
    "colab_type": "code",
    "id": "4VFd4mM_ATRl"
   },
   "outputs": [],
   "source": [
    "data_path=os.path.join('gdrive','My Drive','Colab Notebooks','dataset.csv')"
   ]
  },
  {
   "cell_type": "code",
   "execution_count": 0,
   "metadata": {
    "colab": {},
    "colab_type": "code",
    "id": "BkIGK1zB_tYP"
   },
   "outputs": [],
   "source": [
    "data=pd.read_csv(data_path,encoding = \"ISO-8859-1\")"
   ]
  },
  {
   "cell_type": "code",
   "execution_count": 5,
   "metadata": {
    "colab": {
     "base_uri": "https://localhost:8080/",
     "height": 204
    },
    "colab_type": "code",
    "id": "9MpEPnXD_tYT",
    "outputId": "2882693b-aac5-43fb-ab1e-24343d0c693b"
   },
   "outputs": [
    {
     "data": {
      "text/html": [
       "<div>\n",
       "<style scoped>\n",
       "    .dataframe tbody tr th:only-of-type {\n",
       "        vertical-align: middle;\n",
       "    }\n",
       "\n",
       "    .dataframe tbody tr th {\n",
       "        vertical-align: top;\n",
       "    }\n",
       "\n",
       "    .dataframe thead th {\n",
       "        text-align: right;\n",
       "    }\n",
       "</style>\n",
       "<table border=\"1\" class=\"dataframe\">\n",
       "  <thead>\n",
       "    <tr style=\"text-align: right;\">\n",
       "      <th></th>\n",
       "      <th>SentimentText</th>\n",
       "      <th>Sentiment</th>\n",
       "    </tr>\n",
       "  </thead>\n",
       "  <tbody>\n",
       "    <tr>\n",
       "      <th>0</th>\n",
       "      <td>first think another Disney movie, might good, ...</td>\n",
       "      <td>1</td>\n",
       "    </tr>\n",
       "    <tr>\n",
       "      <th>1</th>\n",
       "      <td>Put aside Dr. House repeat missed, Desperate H...</td>\n",
       "      <td>0</td>\n",
       "    </tr>\n",
       "    <tr>\n",
       "      <th>2</th>\n",
       "      <td>big fan Stephen King's work, film made even gr...</td>\n",
       "      <td>1</td>\n",
       "    </tr>\n",
       "    <tr>\n",
       "      <th>3</th>\n",
       "      <td>watched horrid thing TV. Needless say one movi...</td>\n",
       "      <td>0</td>\n",
       "    </tr>\n",
       "    <tr>\n",
       "      <th>4</th>\n",
       "      <td>truly enjoyed film. acting terrific plot. Jeff...</td>\n",
       "      <td>1</td>\n",
       "    </tr>\n",
       "  </tbody>\n",
       "</table>\n",
       "</div>"
      ],
      "text/plain": [
       "                                       SentimentText  Sentiment\n",
       "0  first think another Disney movie, might good, ...          1\n",
       "1  Put aside Dr. House repeat missed, Desperate H...          0\n",
       "2  big fan Stephen King's work, film made even gr...          1\n",
       "3  watched horrid thing TV. Needless say one movi...          0\n",
       "4  truly enjoyed film. acting terrific plot. Jeff...          1"
      ]
     },
     "execution_count": 5,
     "metadata": {
      "tags": []
     },
     "output_type": "execute_result"
    }
   ],
   "source": [
    "data.head()"
   ]
  },
  {
   "cell_type": "code",
   "execution_count": 0,
   "metadata": {
    "colab": {},
    "colab_type": "code",
    "id": "W2u-O8Mz_tYc"
   },
   "outputs": [],
   "source": [
    "def remove_pattern(input_text,pattern):\n",
    "  r=re.findall(pattern,input_text)\n",
    "  for i in r:\n",
    "    input_text=re.sub(i,'',input_text)\n",
    "    \n",
    "  return input_text"
   ]
  },
  {
   "cell_type": "code",
   "execution_count": 0,
   "metadata": {
    "colab": {},
    "colab_type": "code",
    "id": "W8JrA3W0_tYg"
   },
   "outputs": [],
   "source": [
    "data['tidy']=np.vectorize(remove_pattern)(data['SentimentText'],',[\\w]*')\n",
    "data['tidy']=data['tidy'].str.replace('[^a-zA-z]',\" \")\n",
    "data['tidy']=data['tidy'].apply(lambda x:' '.join([w for w in x.split() if len(w)>2]))"
   ]
  },
  {
   "cell_type": "code",
   "execution_count": 8,
   "metadata": {
    "colab": {
     "base_uri": "https://localhost:8080/",
     "height": 204
    },
    "colab_type": "code",
    "id": "2lxbnHtN_tYj",
    "outputId": "4072fa95-93d2-4d00-ff5c-542bd0acac91"
   },
   "outputs": [
    {
     "data": {
      "text/html": [
       "<div>\n",
       "<style scoped>\n",
       "    .dataframe tbody tr th:only-of-type {\n",
       "        vertical-align: middle;\n",
       "    }\n",
       "\n",
       "    .dataframe tbody tr th {\n",
       "        vertical-align: top;\n",
       "    }\n",
       "\n",
       "    .dataframe thead th {\n",
       "        text-align: right;\n",
       "    }\n",
       "</style>\n",
       "<table border=\"1\" class=\"dataframe\">\n",
       "  <thead>\n",
       "    <tr style=\"text-align: right;\">\n",
       "      <th></th>\n",
       "      <th>SentimentText</th>\n",
       "      <th>Sentiment</th>\n",
       "      <th>tidy</th>\n",
       "    </tr>\n",
       "  </thead>\n",
       "  <tbody>\n",
       "    <tr>\n",
       "      <th>0</th>\n",
       "      <td>first think another Disney movie, might good, ...</td>\n",
       "      <td>1</td>\n",
       "      <td>first think another Disney movie might good ki...</td>\n",
       "    </tr>\n",
       "    <tr>\n",
       "      <th>1</th>\n",
       "      <td>Put aside Dr. House repeat missed, Desperate H...</td>\n",
       "      <td>0</td>\n",
       "      <td>Put aside House repeat missed Desperate Housew...</td>\n",
       "    </tr>\n",
       "    <tr>\n",
       "      <th>2</th>\n",
       "      <td>big fan Stephen King's work, film made even gr...</td>\n",
       "      <td>1</td>\n",
       "      <td>big fan Stephen King work film made even great...</td>\n",
       "    </tr>\n",
       "    <tr>\n",
       "      <th>3</th>\n",
       "      <td>watched horrid thing TV. Needless say one movi...</td>\n",
       "      <td>0</td>\n",
       "      <td>watched horrid thing Needless say one movies w...</td>\n",
       "    </tr>\n",
       "    <tr>\n",
       "      <th>4</th>\n",
       "      <td>truly enjoyed film. acting terrific plot. Jeff...</td>\n",
       "      <td>1</td>\n",
       "      <td>truly enjoyed film acting terrific plot Jeff C...</td>\n",
       "    </tr>\n",
       "  </tbody>\n",
       "</table>\n",
       "</div>"
      ],
      "text/plain": [
       "                                       SentimentText  Sentiment  \\\n",
       "0  first think another Disney movie, might good, ...          1   \n",
       "1  Put aside Dr. House repeat missed, Desperate H...          0   \n",
       "2  big fan Stephen King's work, film made even gr...          1   \n",
       "3  watched horrid thing TV. Needless say one movi...          0   \n",
       "4  truly enjoyed film. acting terrific plot. Jeff...          1   \n",
       "\n",
       "                                                tidy  \n",
       "0  first think another Disney movie might good ki...  \n",
       "1  Put aside House repeat missed Desperate Housew...  \n",
       "2  big fan Stephen King work film made even great...  \n",
       "3  watched horrid thing Needless say one movies w...  \n",
       "4  truly enjoyed film acting terrific plot Jeff C...  "
      ]
     },
     "execution_count": 8,
     "metadata": {
      "tags": []
     },
     "output_type": "execute_result"
    }
   ],
   "source": [
    "data.head()"
   ]
  },
  {
   "cell_type": "code",
   "execution_count": 9,
   "metadata": {
    "colab": {
     "base_uri": "https://localhost:8080/",
     "height": 119
    },
    "colab_type": "code",
    "id": "doov75pR_tYs",
    "outputId": "8e5f6d8e-9553-4a83-a2d6-6305d67d46ba"
   },
   "outputs": [
    {
     "data": {
      "text/plain": [
       "0    [first, think, another, Disney, movie, might, ...\n",
       "1    [Put, aside, House, repeat, missed, Desperate,...\n",
       "2    [big, fan, Stephen, King, work, film, made, ev...\n",
       "3    [watched, horrid, thing, Needless, say, one, m...\n",
       "4    [truly, enjoyed, film, acting, terrific, plot,...\n",
       "Name: tidy, dtype: object"
      ]
     },
     "execution_count": 9,
     "metadata": {
      "tags": []
     },
     "output_type": "execute_result"
    }
   ],
   "source": [
    "tokenized_review=data['tidy'].apply(lambda x:x.split())\n",
    "tokenized_review.head()"
   ]
  },
  {
   "cell_type": "code",
   "execution_count": 0,
   "metadata": {
    "colab": {},
    "colab_type": "code",
    "id": "-srigDLC_tYx"
   },
   "outputs": [],
   "source": [
    "stemmer=PorterStemmer()"
   ]
  },
  {
   "cell_type": "code",
   "execution_count": 0,
   "metadata": {
    "colab": {},
    "colab_type": "code",
    "id": "h_eitlee_tY0"
   },
   "outputs": [],
   "source": [
    "tokenized_review=tokenized_review.apply(lambda x:[stemmer.stem(i) for i in x])"
   ]
  },
  {
   "cell_type": "code",
   "execution_count": 12,
   "metadata": {
    "colab": {
     "base_uri": "https://localhost:8080/",
     "height": 119
    },
    "colab_type": "code",
    "id": "ylFnAD7Q_tY5",
    "outputId": "a83ce2a9-8562-4716-c9b2-10e98613b7bd"
   },
   "outputs": [
    {
     "data": {
      "text/plain": [
       "0    [first, think, anoth, disney, movi, might, goo...\n",
       "1    [put, asid, hous, repeat, miss, desper, housew...\n",
       "2    [big, fan, stephen, king, work, film, made, ev...\n",
       "3    [watch, horrid, thing, needless, say, one, mov...\n",
       "4    [truli, enjoy, film, act, terrif, plot, jeff, ...\n",
       "Name: tidy, dtype: object"
      ]
     },
     "execution_count": 12,
     "metadata": {
      "tags": []
     },
     "output_type": "execute_result"
    }
   ],
   "source": [
    "tokenized_review.head()"
   ]
  },
  {
   "cell_type": "code",
   "execution_count": 0,
   "metadata": {
    "colab": {},
    "colab_type": "code",
    "id": "1ctAkPAr_tZC"
   },
   "outputs": [],
   "source": [
    "for i in range(len(tokenized_review)):\n",
    "    tokenized_review[i]=' '.join(tokenized_review[i])\n",
    "\n",
    "data['tidy']=tokenized_review"
   ]
  },
  {
   "cell_type": "code",
   "execution_count": 14,
   "metadata": {
    "colab": {
     "base_uri": "https://localhost:8080/",
     "height": 204
    },
    "colab_type": "code",
    "id": "0pMRWSg1_tZF",
    "outputId": "c79f6169-80e5-412d-ce08-d78e65227905"
   },
   "outputs": [
    {
     "data": {
      "text/html": [
       "<div>\n",
       "<style scoped>\n",
       "    .dataframe tbody tr th:only-of-type {\n",
       "        vertical-align: middle;\n",
       "    }\n",
       "\n",
       "    .dataframe tbody tr th {\n",
       "        vertical-align: top;\n",
       "    }\n",
       "\n",
       "    .dataframe thead th {\n",
       "        text-align: right;\n",
       "    }\n",
       "</style>\n",
       "<table border=\"1\" class=\"dataframe\">\n",
       "  <thead>\n",
       "    <tr style=\"text-align: right;\">\n",
       "      <th></th>\n",
       "      <th>SentimentText</th>\n",
       "      <th>Sentiment</th>\n",
       "      <th>tidy</th>\n",
       "    </tr>\n",
       "  </thead>\n",
       "  <tbody>\n",
       "    <tr>\n",
       "      <th>0</th>\n",
       "      <td>first think another Disney movie, might good, ...</td>\n",
       "      <td>1</td>\n",
       "      <td>first think anoth disney movi might good kid m...</td>\n",
       "    </tr>\n",
       "    <tr>\n",
       "      <th>1</th>\n",
       "      <td>Put aside Dr. House repeat missed, Desperate H...</td>\n",
       "      <td>0</td>\n",
       "      <td>put asid hous repeat miss desper housew new wa...</td>\n",
       "    </tr>\n",
       "    <tr>\n",
       "      <th>2</th>\n",
       "      <td>big fan Stephen King's work, film made even gr...</td>\n",
       "      <td>1</td>\n",
       "      <td>big fan stephen king work film made even great...</td>\n",
       "    </tr>\n",
       "    <tr>\n",
       "      <th>3</th>\n",
       "      <td>watched horrid thing TV. Needless say one movi...</td>\n",
       "      <td>0</td>\n",
       "      <td>watch horrid thing needless say one movi watch...</td>\n",
       "    </tr>\n",
       "    <tr>\n",
       "      <th>4</th>\n",
       "      <td>truly enjoyed film. acting terrific plot. Jeff...</td>\n",
       "      <td>1</td>\n",
       "      <td>truli enjoy film act terrif plot jeff comb tal...</td>\n",
       "    </tr>\n",
       "  </tbody>\n",
       "</table>\n",
       "</div>"
      ],
      "text/plain": [
       "                                       SentimentText  Sentiment  \\\n",
       "0  first think another Disney movie, might good, ...          1   \n",
       "1  Put aside Dr. House repeat missed, Desperate H...          0   \n",
       "2  big fan Stephen King's work, film made even gr...          1   \n",
       "3  watched horrid thing TV. Needless say one movi...          0   \n",
       "4  truly enjoyed film. acting terrific plot. Jeff...          1   \n",
       "\n",
       "                                                tidy  \n",
       "0  first think anoth disney movi might good kid m...  \n",
       "1  put asid hous repeat miss desper housew new wa...  \n",
       "2  big fan stephen king work film made even great...  \n",
       "3  watch horrid thing needless say one movi watch...  \n",
       "4  truli enjoy film act terrif plot jeff comb tal...  "
      ]
     },
     "execution_count": 14,
     "metadata": {
      "tags": []
     },
     "output_type": "execute_result"
    }
   ],
   "source": [
    "data.head()"
   ]
  },
  {
   "cell_type": "code",
   "execution_count": 0,
   "metadata": {
    "colab": {},
    "colab_type": "code",
    "id": "ZBcaurl7_tZK"
   },
   "outputs": [],
   "source": [
    "all_words=' '.join([word for word in data['tidy']])"
   ]
  },
  {
   "cell_type": "code",
   "execution_count": 0,
   "metadata": {
    "colab": {},
    "colab_type": "code",
    "id": "rtqFaDzD_tZN"
   },
   "outputs": [],
   "source": [
    "all_words_list=all_words.split(' ')"
   ]
  },
  {
   "cell_type": "code",
   "execution_count": 0,
   "metadata": {
    "colab": {},
    "colab_type": "code",
    "id": "tsP3a_nc_tZR"
   },
   "outputs": [],
   "source": [
    "all_word_frame=pd.DataFrame(all_words_list)"
   ]
  },
  {
   "cell_type": "code",
   "execution_count": 0,
   "metadata": {
    "colab": {},
    "colab_type": "code",
    "id": "6mGy81gS_tZY"
   },
   "outputs": [],
   "source": [
    "X=all_word_frame[0].value_counts()"
   ]
  },
  {
   "cell_type": "code",
   "execution_count": 19,
   "metadata": {
    "colab": {
     "base_uri": "https://localhost:8080/",
     "height": 1071
    },
    "colab_type": "code",
    "id": "PeYJHRiK_tZc",
    "outputId": "abc8802e-8089-40d9-924e-49f10640d163"
   },
   "outputs": [
    {
     "data": {
      "text/plain": [
       "movi             51690\n",
       "film             48181\n",
       "one              27728\n",
       "like             22778\n",
       "time             16188\n",
       "good             15353\n",
       "make             15205\n",
       "the              14265\n",
       "charact          14178\n",
       "get              14139\n",
       "see              14109\n",
       "watch            13942\n",
       "stori            13165\n",
       "even             12897\n",
       "would            12434\n",
       "realli           11731\n",
       "well             11024\n",
       "scene            10595\n",
       "look             10042\n",
       "show              9875\n",
       "much              9760\n",
       "end               9651\n",
       "peopl             9389\n",
       "bad               9338\n",
       "great             9164\n",
       "also              9153\n",
       "first             9060\n",
       "love              9013\n",
       "think             8910\n",
       "don               8847\n",
       "                 ...  \n",
       "nebulos              1\n",
       "muslmana             1\n",
       "commensur            1\n",
       "mancori              1\n",
       "erector              1\n",
       "zarustica            1\n",
       "reviewi              1\n",
       "sparsest             1\n",
       "eventulli            1\n",
       "felisberto           1\n",
       "manyand              1\n",
       "exager               1\n",
       "rashamon             1\n",
       "johannsen            1\n",
       "huorn                1\n",
       "rigamarol            1\n",
       "parlanc              1\n",
       "matra                1\n",
       "wingnut              1\n",
       "unvent               1\n",
       "odagiri              1\n",
       "airi                 1\n",
       "brocki               1\n",
       "unhind               1\n",
       "linch                1\n",
       "gordano              1\n",
       "connecticutt         1\n",
       "ornithologist        1\n",
       "machinist            1\n",
       "millenium            1\n",
       "Name: 0, Length: 51292, dtype: int64"
      ]
     },
     "execution_count": 19,
     "metadata": {
      "tags": []
     },
     "output_type": "execute_result"
    }
   ],
   "source": [
    "X"
   ]
  },
  {
   "cell_type": "code",
   "execution_count": 0,
   "metadata": {
    "colab": {},
    "colab_type": "code",
    "id": "fDMVsM0s_tZh"
   },
   "outputs": [],
   "source": [
    "df2 = pd.DataFrame(np.array(all_words.split(' ')).reshape(-1, 1), columns=['words'])"
   ]
  },
  {
   "cell_type": "code",
   "execution_count": 0,
   "metadata": {
    "colab": {},
    "colab_type": "code",
    "id": "chnJjkOz_tZl"
   },
   "outputs": [],
   "source": [
    "unique_words = list(df2['words'].str.split(' ', expand=True).stack().unique())"
   ]
  },
  {
   "cell_type": "code",
   "execution_count": 22,
   "metadata": {
    "colab": {
     "base_uri": "https://localhost:8080/",
     "height": 34
    },
    "colab_type": "code",
    "id": "Qw8aD9aO_tZv",
    "outputId": "0d401499-6ed0-4865-fea7-133f5f7e5f06"
   },
   "outputs": [
    {
     "data": {
      "text/plain": [
       "51292"
      ]
     },
     "execution_count": 22,
     "metadata": {
      "tags": []
     },
     "output_type": "execute_result"
    }
   ],
   "source": [
    "len(unique_words)"
   ]
  },
  {
   "cell_type": "code",
   "execution_count": 0,
   "metadata": {
    "colab": {},
    "colab_type": "code",
    "id": "2mXPbY8__tZ1"
   },
   "outputs": [],
   "source": [
    "word_counts = list(df2['words'].value_counts())"
   ]
  },
  {
   "cell_type": "code",
   "execution_count": 0,
   "metadata": {
    "colab": {},
    "colab_type": "code",
    "id": "eRquRwKm_tZ7"
   },
   "outputs": [],
   "source": [
    "df4 = pd.DataFrame(np.hstack((np.array(unique_words).reshape(-1,1),np.array(word_counts).reshape(-1,1))), columns=['words','word_count'])"
   ]
  },
  {
   "cell_type": "code",
   "execution_count": 0,
   "metadata": {
    "colab": {},
    "colab_type": "code",
    "id": "4dl-8EiP_taE"
   },
   "outputs": [],
   "source": [
    "df4_new=df4[df4['word_count'].map(len)==1]"
   ]
  },
  {
   "cell_type": "code",
   "execution_count": 0,
   "metadata": {
    "colab": {},
    "colab_type": "code",
    "id": "WbdnS-rC_taK"
   },
   "outputs": [],
   "source": [
    "df4_words_list = list(df4_new['words'])"
   ]
  },
  {
   "cell_type": "code",
   "execution_count": 0,
   "metadata": {
    "colab": {},
    "colab_type": "code",
    "id": "5mwGLFLR_taN"
   },
   "outputs": [],
   "source": [
    "unique_words=list(unique_words)"
   ]
  },
  {
   "cell_type": "code",
   "execution_count": 0,
   "metadata": {
    "colab": {},
    "colab_type": "code",
    "id": "iTHI68y6_taS"
   },
   "outputs": [],
   "source": [
    "for word in df4_words_list:\n",
    "    unique_words.remove(word)"
   ]
  },
  {
   "cell_type": "code",
   "execution_count": 29,
   "metadata": {
    "colab": {
     "base_uri": "https://localhost:8080/",
     "height": 34
    },
    "colab_type": "code",
    "id": "p-KO2PFG_taV",
    "outputId": "ae8d24c4-ffa1-4c94-8005-3402c91dcce9"
   },
   "outputs": [
    {
     "data": {
      "text/plain": [
       "14132"
      ]
     },
     "execution_count": 29,
     "metadata": {
      "tags": []
     },
     "output_type": "execute_result"
    }
   ],
   "source": [
    "len(unique_words)"
   ]
  },
  {
   "cell_type": "code",
   "execution_count": 30,
   "metadata": {
    "colab": {
     "base_uri": "https://localhost:8080/",
     "height": 34
    },
    "colab_type": "code",
    "id": "i61m5-sn_taa",
    "outputId": "44d18eb1-57fd-4b6a-f516-4ee9e6057d7f"
   },
   "outputs": [
    {
     "data": {
      "text/plain": [
       "list"
      ]
     },
     "execution_count": 30,
     "metadata": {
      "tags": []
     },
     "output_type": "execute_result"
    }
   ],
   "source": [
    "type(unique_words)"
   ]
  },
  {
   "cell_type": "code",
   "execution_count": 31,
   "metadata": {
    "colab": {
     "base_uri": "https://localhost:8080/",
     "height": 204
    },
    "colab_type": "code",
    "id": "2FimBiny_tae",
    "outputId": "9e8b1ba3-0951-4329-bb30-dd977db86128"
   },
   "outputs": [
    {
     "data": {
      "text/html": [
       "<div>\n",
       "<style scoped>\n",
       "    .dataframe tbody tr th:only-of-type {\n",
       "        vertical-align: middle;\n",
       "    }\n",
       "\n",
       "    .dataframe tbody tr th {\n",
       "        vertical-align: top;\n",
       "    }\n",
       "\n",
       "    .dataframe thead th {\n",
       "        text-align: right;\n",
       "    }\n",
       "</style>\n",
       "<table border=\"1\" class=\"dataframe\">\n",
       "  <thead>\n",
       "    <tr style=\"text-align: right;\">\n",
       "      <th></th>\n",
       "      <th>words</th>\n",
       "      <th>word_count</th>\n",
       "    </tr>\n",
       "  </thead>\n",
       "  <tbody>\n",
       "    <tr>\n",
       "      <th>14132</th>\n",
       "      <td>contemptu</td>\n",
       "      <td>9</td>\n",
       "    </tr>\n",
       "    <tr>\n",
       "      <th>14133</th>\n",
       "      <td>bicycl</td>\n",
       "      <td>9</td>\n",
       "    </tr>\n",
       "    <tr>\n",
       "      <th>14134</th>\n",
       "      <td>victrola</td>\n",
       "      <td>9</td>\n",
       "    </tr>\n",
       "    <tr>\n",
       "      <th>14135</th>\n",
       "      <td>vaccin</td>\n",
       "      <td>9</td>\n",
       "    </tr>\n",
       "    <tr>\n",
       "      <th>14136</th>\n",
       "      <td>barcelona</td>\n",
       "      <td>9</td>\n",
       "    </tr>\n",
       "  </tbody>\n",
       "</table>\n",
       "</div>"
      ],
      "text/plain": [
       "           words word_count\n",
       "14132  contemptu          9\n",
       "14133     bicycl          9\n",
       "14134   victrola          9\n",
       "14135     vaccin          9\n",
       "14136  barcelona          9"
      ]
     },
     "execution_count": 31,
     "metadata": {
      "tags": []
     },
     "output_type": "execute_result"
    }
   ],
   "source": [
    "df4_new.head()"
   ]
  },
  {
   "cell_type": "code",
   "execution_count": 0,
   "metadata": {
    "colab": {},
    "colab_type": "code",
    "id": "AIbAGXtb_tah"
   },
   "outputs": [],
   "source": [
    "new_data=data"
   ]
  },
  {
   "cell_type": "code",
   "execution_count": 33,
   "metadata": {
    "colab": {
     "base_uri": "https://localhost:8080/",
     "height": 204
    },
    "colab_type": "code",
    "id": "a_np-zsZ_tak",
    "outputId": "25227eed-355f-467a-a39e-f3e46bc5fbb5"
   },
   "outputs": [
    {
     "data": {
      "text/html": [
       "<div>\n",
       "<style scoped>\n",
       "    .dataframe tbody tr th:only-of-type {\n",
       "        vertical-align: middle;\n",
       "    }\n",
       "\n",
       "    .dataframe tbody tr th {\n",
       "        vertical-align: top;\n",
       "    }\n",
       "\n",
       "    .dataframe thead th {\n",
       "        text-align: right;\n",
       "    }\n",
       "</style>\n",
       "<table border=\"1\" class=\"dataframe\">\n",
       "  <thead>\n",
       "    <tr style=\"text-align: right;\">\n",
       "      <th></th>\n",
       "      <th>SentimentText</th>\n",
       "      <th>Sentiment</th>\n",
       "      <th>tidy</th>\n",
       "    </tr>\n",
       "  </thead>\n",
       "  <tbody>\n",
       "    <tr>\n",
       "      <th>0</th>\n",
       "      <td>first think another Disney movie, might good, ...</td>\n",
       "      <td>1</td>\n",
       "      <td>first think anoth disney movi might good kid m...</td>\n",
       "    </tr>\n",
       "    <tr>\n",
       "      <th>1</th>\n",
       "      <td>Put aside Dr. House repeat missed, Desperate H...</td>\n",
       "      <td>0</td>\n",
       "      <td>put asid hous repeat miss desper housew new wa...</td>\n",
       "    </tr>\n",
       "    <tr>\n",
       "      <th>2</th>\n",
       "      <td>big fan Stephen King's work, film made even gr...</td>\n",
       "      <td>1</td>\n",
       "      <td>big fan stephen king work film made even great...</td>\n",
       "    </tr>\n",
       "    <tr>\n",
       "      <th>3</th>\n",
       "      <td>watched horrid thing TV. Needless say one movi...</td>\n",
       "      <td>0</td>\n",
       "      <td>watch horrid thing needless say one movi watch...</td>\n",
       "    </tr>\n",
       "    <tr>\n",
       "      <th>4</th>\n",
       "      <td>truly enjoyed film. acting terrific plot. Jeff...</td>\n",
       "      <td>1</td>\n",
       "      <td>truli enjoy film act terrif plot jeff comb tal...</td>\n",
       "    </tr>\n",
       "  </tbody>\n",
       "</table>\n",
       "</div>"
      ],
      "text/plain": [
       "                                       SentimentText  Sentiment  \\\n",
       "0  first think another Disney movie, might good, ...          1   \n",
       "1  Put aside Dr. House repeat missed, Desperate H...          0   \n",
       "2  big fan Stephen King's work, film made even gr...          1   \n",
       "3  watched horrid thing TV. Needless say one movi...          0   \n",
       "4  truly enjoyed film. acting terrific plot. Jeff...          1   \n",
       "\n",
       "                                                tidy  \n",
       "0  first think anoth disney movi might good kid m...  \n",
       "1  put asid hous repeat miss desper housew new wa...  \n",
       "2  big fan stephen king work film made even great...  \n",
       "3  watch horrid thing needless say one movi watch...  \n",
       "4  truli enjoy film act terrif plot jeff comb tal...  "
      ]
     },
     "execution_count": 33,
     "metadata": {
      "tags": []
     },
     "output_type": "execute_result"
    }
   ],
   "source": [
    "new_data.head()"
   ]
  },
  {
   "cell_type": "code",
   "execution_count": 34,
   "metadata": {
    "colab": {
     "base_uri": "https://localhost:8080/",
     "height": 119
    },
    "colab_type": "code",
    "id": "xQeOf0wr_tao",
    "outputId": "4616d42f-895e-4140-adeb-76125acd752e"
   },
   "outputs": [
    {
     "data": {
      "text/plain": [
       "0    [first, think, anoth, disney, movi, might, goo...\n",
       "1    [put, asid, hous, repeat, miss, desper, housew...\n",
       "2    [big, fan, stephen, king, work, film, made, ev...\n",
       "3    [watch, horrid, thing, needless, say, one, mov...\n",
       "4    [truli, enjoy, film, act, terrif, plot, jeff, ...\n",
       "Name: tidy, dtype: object"
      ]
     },
     "execution_count": 34,
     "metadata": {
      "tags": []
     },
     "output_type": "execute_result"
    }
   ],
   "source": [
    "tokenized_tidy=new_data['tidy'].apply(lambda x:x.split())\n",
    "tokenized_tidy.head()"
   ]
  },
  {
   "cell_type": "code",
   "execution_count": 0,
   "metadata": {
    "colab": {},
    "colab_type": "code",
    "id": "XyzwZ7lZ_tau"
   },
   "outputs": [],
   "source": [
    "for i in tokenized_tidy:\n",
    "    for j in i:\n",
    "        if j not in unique_words:\n",
    "            i.remove(j)"
   ]
  },
  {
   "cell_type": "code",
   "execution_count": 36,
   "metadata": {
    "colab": {
     "base_uri": "https://localhost:8080/",
     "height": 34
    },
    "colab_type": "code",
    "id": "PQDRqX4q_tax",
    "outputId": "959224b8-e062-4903-82be-0e35152bdd80"
   },
   "outputs": [
    {
     "data": {
      "text/plain": [
       "25000"
      ]
     },
     "execution_count": 36,
     "metadata": {
      "tags": []
     },
     "output_type": "execute_result"
    }
   ],
   "source": [
    "len(tokenized_tidy)"
   ]
  },
  {
   "cell_type": "code",
   "execution_count": 0,
   "metadata": {
    "colab": {},
    "colab_type": "code",
    "id": "3Kl_e3yn_ta2"
   },
   "outputs": [],
   "source": [
    "for i in range(len(tokenized_tidy)):\n",
    "    tokenized_tidy[i]=' '.join(tokenized_tidy[i])\n",
    "\n",
    "new_data['new_tidy']=tokenized_tidy"
   ]
  },
  {
   "cell_type": "code",
   "execution_count": 38,
   "metadata": {
    "colab": {
     "base_uri": "https://localhost:8080/",
     "height": 204
    },
    "colab_type": "code",
    "id": "6QHfLehe_ta5",
    "outputId": "0b7ac391-3991-4659-a67a-3bf15a856a1c"
   },
   "outputs": [
    {
     "data": {
      "text/html": [
       "<div>\n",
       "<style scoped>\n",
       "    .dataframe tbody tr th:only-of-type {\n",
       "        vertical-align: middle;\n",
       "    }\n",
       "\n",
       "    .dataframe tbody tr th {\n",
       "        vertical-align: top;\n",
       "    }\n",
       "\n",
       "    .dataframe thead th {\n",
       "        text-align: right;\n",
       "    }\n",
       "</style>\n",
       "<table border=\"1\" class=\"dataframe\">\n",
       "  <thead>\n",
       "    <tr style=\"text-align: right;\">\n",
       "      <th></th>\n",
       "      <th>SentimentText</th>\n",
       "      <th>Sentiment</th>\n",
       "      <th>tidy</th>\n",
       "      <th>new_tidy</th>\n",
       "    </tr>\n",
       "  </thead>\n",
       "  <tbody>\n",
       "    <tr>\n",
       "      <th>0</th>\n",
       "      <td>first think another Disney movie, might good, ...</td>\n",
       "      <td>1</td>\n",
       "      <td>first think anoth disney movi might good kid m...</td>\n",
       "      <td>first think anoth disney movi might good kid m...</td>\n",
       "    </tr>\n",
       "    <tr>\n",
       "      <th>1</th>\n",
       "      <td>Put aside Dr. House repeat missed, Desperate H...</td>\n",
       "      <td>0</td>\n",
       "      <td>put asid hous repeat miss desper housew new wa...</td>\n",
       "      <td>put asid hous repeat miss desper housew new wa...</td>\n",
       "    </tr>\n",
       "    <tr>\n",
       "      <th>2</th>\n",
       "      <td>big fan Stephen King's work, film made even gr...</td>\n",
       "      <td>1</td>\n",
       "      <td>big fan stephen king work film made even great...</td>\n",
       "      <td>big fan stephen king work film made even great...</td>\n",
       "    </tr>\n",
       "    <tr>\n",
       "      <th>3</th>\n",
       "      <td>watched horrid thing TV. Needless say one movi...</td>\n",
       "      <td>0</td>\n",
       "      <td>watch horrid thing needless say one movi watch...</td>\n",
       "      <td>watch horrid thing needless say one movi watch...</td>\n",
       "    </tr>\n",
       "    <tr>\n",
       "      <th>4</th>\n",
       "      <td>truly enjoyed film. acting terrific plot. Jeff...</td>\n",
       "      <td>1</td>\n",
       "      <td>truli enjoy film act terrif plot jeff comb tal...</td>\n",
       "      <td>truli enjoy film act terrif plot jeff comb tal...</td>\n",
       "    </tr>\n",
       "  </tbody>\n",
       "</table>\n",
       "</div>"
      ],
      "text/plain": [
       "                                       SentimentText  Sentiment  \\\n",
       "0  first think another Disney movie, might good, ...          1   \n",
       "1  Put aside Dr. House repeat missed, Desperate H...          0   \n",
       "2  big fan Stephen King's work, film made even gr...          1   \n",
       "3  watched horrid thing TV. Needless say one movi...          0   \n",
       "4  truly enjoyed film. acting terrific plot. Jeff...          1   \n",
       "\n",
       "                                                tidy  \\\n",
       "0  first think anoth disney movi might good kid m...   \n",
       "1  put asid hous repeat miss desper housew new wa...   \n",
       "2  big fan stephen king work film made even great...   \n",
       "3  watch horrid thing needless say one movi watch...   \n",
       "4  truli enjoy film act terrif plot jeff comb tal...   \n",
       "\n",
       "                                            new_tidy  \n",
       "0  first think anoth disney movi might good kid m...  \n",
       "1  put asid hous repeat miss desper housew new wa...  \n",
       "2  big fan stephen king work film made even great...  \n",
       "3  watch horrid thing needless say one movi watch...  \n",
       "4  truli enjoy film act terrif plot jeff comb tal...  "
      ]
     },
     "execution_count": 38,
     "metadata": {
      "tags": []
     },
     "output_type": "execute_result"
    }
   ],
   "source": [
    "new_data.head()"
   ]
  },
  {
   "cell_type": "code",
   "execution_count": 0,
   "metadata": {
    "colab": {},
    "colab_type": "code",
    "id": "A80llrpZ_tbB"
   },
   "outputs": [],
   "source": [
    "# from sklearn.feature_extraction.text import CountVectorizer"
   ]
  },
  {
   "cell_type": "code",
   "execution_count": 0,
   "metadata": {
    "colab": {},
    "colab_type": "code",
    "id": "Nrwbtn4L_tbD"
   },
   "outputs": [],
   "source": [
    "rev_vectorizer=CountVectorizer(stop_words='english')\n",
    "rev= rev_vectorizer.fit_transform(new_data['new_tidy']).todense()"
   ]
  },
  {
   "cell_type": "code",
   "execution_count": 0,
   "metadata": {
    "colab": {},
    "colab_type": "code",
    "id": "hPQwPNwp_tbG"
   },
   "outputs": [],
   "source": [
    "train_rev=rev\n",
    "\n",
    "xtrain_rev,xvalid_rev,ytrain,yvalid=train_test_split(train_rev,new_data['Sentiment'],test_size=0.2)"
   ]
  },
  {
   "cell_type": "code",
   "execution_count": 42,
   "metadata": {
    "colab": {
     "base_uri": "https://localhost:8080/",
     "height": 34
    },
    "colab_type": "code",
    "id": "Z52Zu4-9IcR_",
    "outputId": "9d699d6a-45e1-4045-c809-1c0064f10ae1"
   },
   "outputs": [
    {
     "data": {
      "text/plain": [
       "(20000, 23000)"
      ]
     },
     "execution_count": 42,
     "metadata": {
      "tags": []
     },
     "output_type": "execute_result"
    }
   ],
   "source": [
    "xtrain_rev.shape"
   ]
  },
  {
   "cell_type": "code",
   "execution_count": 47,
   "metadata": {
    "colab": {
     "base_uri": "https://localhost:8080/",
     "height": 34
    },
    "colab_type": "code",
    "id": "-_fczRGtUrs_",
    "outputId": "f05c8b59-ade4-4110-b714-5af83d49bc77"
   },
   "outputs": [
    {
     "data": {
      "text/plain": [
       "numpy.matrix"
      ]
     },
     "execution_count": 47,
     "metadata": {
      "tags": []
     },
     "output_type": "execute_result"
    }
   ],
   "source": [
    "type(xtrain_rev)"
   ]
  },
  {
   "cell_type": "code",
   "execution_count": 0,
   "metadata": {
    "colab": {},
    "colab_type": "code",
    "id": "4spol0nlIUHU"
   },
   "outputs": [],
   "source": [
    "xtrain_rev_1=np.squeeze(np.asarray(xtrain_rev))"
   ]
  },
  {
   "cell_type": "code",
   "execution_count": 55,
   "metadata": {
    "colab": {
     "base_uri": "https://localhost:8080/",
     "height": 34
    },
    "colab_type": "code",
    "id": "h69SU08AWFl9",
    "outputId": "7f0b1a56-204e-411d-f62e-b278d85ac34e"
   },
   "outputs": [
    {
     "data": {
      "text/plain": [
       "numpy.ndarray"
      ]
     },
     "execution_count": 55,
     "metadata": {
      "tags": []
     },
     "output_type": "execute_result"
    }
   ],
   "source": [
    "type(xtrain_rev_1)"
   ]
  },
  {
   "cell_type": "code",
   "execution_count": 56,
   "metadata": {
    "colab": {
     "base_uri": "https://localhost:8080/",
     "height": 34
    },
    "colab_type": "code",
    "id": "pnGPvBFdImTK",
    "outputId": "8476ca5c-5f0d-40e7-8c52-bf5f2bda96fc"
   },
   "outputs": [
    {
     "data": {
      "text/plain": [
       "(20000, 23000)"
      ]
     },
     "execution_count": 56,
     "metadata": {
      "tags": []
     },
     "output_type": "execute_result"
    }
   ],
   "source": [
    "xtrain_rev_1.shape"
   ]
  },
  {
   "cell_type": "code",
   "execution_count": 0,
   "metadata": {
    "colab": {},
    "colab_type": "code",
    "id": "6HieLElTLXIu"
   },
   "outputs": [],
   "source": [
    "xtrain_rev_1=xtrain_rev_1.reshape(-1,23000)"
   ]
  },
  {
   "cell_type": "code",
   "execution_count": 58,
   "metadata": {
    "colab": {
     "base_uri": "https://localhost:8080/",
     "height": 34
    },
    "colab_type": "code",
    "id": "RyY9z2pELfiv",
    "outputId": "b7d81a27-bfee-463f-a292-0fed903e8be4"
   },
   "outputs": [
    {
     "data": {
      "text/plain": [
       "(23000,)"
      ]
     },
     "execution_count": 58,
     "metadata": {
      "tags": []
     },
     "output_type": "execute_result"
    }
   ],
   "source": [
    "xtrain_rev_1[1].shape"
   ]
  },
  {
   "cell_type": "code",
   "execution_count": 59,
   "metadata": {
    "colab": {
     "base_uri": "https://localhost:8080/",
     "height": 88
    },
    "colab_type": "code",
    "id": "r_mIQeAg_tbc",
    "outputId": "bfe44130-3fcf-494c-b227-55bd8ed283ea"
   },
   "outputs": [
    {
     "name": "stdout",
     "output_type": "stream",
     "text": [
      "WARNING:tensorflow:From /usr/local/lib/python3.6/dist-packages/tensorflow/python/framework/op_def_library.py:263: colocate_with (from tensorflow.python.framework.ops) is deprecated and will be removed in a future version.\n",
      "Instructions for updating:\n",
      "Colocations handled automatically by placer.\n"
     ]
    }
   ],
   "source": [
    "model=Sequential([Dense(1024,activation='relu',input_shape=xtrain_rev_1[1].shape),\n",
    "                  Dense(256,activation='sigmoid'),\n",
    "                  Dense(64,activation='tanh'),\n",
    "                  Dense(2,activation='softmax')])"
   ]
  },
  {
   "cell_type": "code",
   "execution_count": 60,
   "metadata": {
    "colab": {
     "base_uri": "https://localhost:8080/",
     "height": 272
    },
    "colab_type": "code",
    "id": "Z7rdLGbA_tbf",
    "outputId": "410ebaf3-9db6-47dd-f21c-20e6a1cd76cf"
   },
   "outputs": [
    {
     "name": "stdout",
     "output_type": "stream",
     "text": [
      "_________________________________________________________________\n",
      "Layer (type)                 Output Shape              Param #   \n",
      "=================================================================\n",
      "dense_1 (Dense)              (None, 1024)              23553024  \n",
      "_________________________________________________________________\n",
      "dense_2 (Dense)              (None, 256)               262400    \n",
      "_________________________________________________________________\n",
      "dense_3 (Dense)              (None, 64)                16448     \n",
      "_________________________________________________________________\n",
      "dense_4 (Dense)              (None, 2)                 130       \n",
      "=================================================================\n",
      "Total params: 23,832,002\n",
      "Trainable params: 23,832,002\n",
      "Non-trainable params: 0\n",
      "_________________________________________________________________\n"
     ]
    }
   ],
   "source": [
    "model.summary()"
   ]
  },
  {
   "cell_type": "code",
   "execution_count": 0,
   "metadata": {
    "colab": {},
    "colab_type": "code",
    "id": "u0hJIsD2PQo9"
   },
   "outputs": [],
   "source": [
    "model.compile(loss='sparse_categorical_crossentropy',\n",
    "              optimizer='adam',\n",
    "              metrics=['accuracy'])"
   ]
  },
  {
   "cell_type": "code",
   "execution_count": 62,
   "metadata": {
    "colab": {
     "base_uri": "https://localhost:8080/",
     "height": 445
    },
    "colab_type": "code",
    "id": "3Wbr1mt7PuCJ",
    "outputId": "bd3fe060-36b1-48a9-d13a-10a7c1db4e23"
   },
   "outputs": [
    {
     "name": "stdout",
     "output_type": "stream",
     "text": [
      "WARNING:tensorflow:From /usr/local/lib/python3.6/dist-packages/tensorflow/python/ops/math_ops.py:3066: to_int32 (from tensorflow.python.ops.math_ops) is deprecated and will be removed in a future version.\n",
      "Instructions for updating:\n",
      "Use tf.cast instead.\n",
      "Train on 16000 samples, validate on 4000 samples\n",
      "Epoch 1/10\n",
      "16000/16000 [==============================] - 8s 510us/step - loss: 0.4162 - acc: 0.8024 - val_loss: 0.3069 - val_acc: 0.8785\n",
      "Epoch 2/10\n",
      "16000/16000 [==============================] - 5s 308us/step - loss: 0.1355 - acc: 0.9520 - val_loss: 0.3523 - val_acc: 0.8648\n",
      "Epoch 3/10\n",
      "16000/16000 [==============================] - 5s 310us/step - loss: 0.0352 - acc: 0.9915 - val_loss: 0.4935 - val_acc: 0.8748\n",
      "Epoch 4/10\n",
      "16000/16000 [==============================] - 5s 311us/step - loss: 0.0064 - acc: 0.9993 - val_loss: 0.5648 - val_acc: 0.8708\n",
      "Epoch 5/10\n",
      "16000/16000 [==============================] - 5s 305us/step - loss: 0.0015 - acc: 0.9999 - val_loss: 0.6458 - val_acc: 0.8742\n",
      "Epoch 6/10\n",
      "16000/16000 [==============================] - 5s 309us/step - loss: 5.6839e-04 - acc: 0.9999 - val_loss: 0.6848 - val_acc: 0.8713\n",
      "Epoch 7/10\n",
      "16000/16000 [==============================] - 5s 309us/step - loss: 3.3503e-04 - acc: 1.0000 - val_loss: 0.7162 - val_acc: 0.8730\n",
      "Epoch 8/10\n",
      "16000/16000 [==============================] - 5s 302us/step - loss: 2.3707e-04 - acc: 1.0000 - val_loss: 0.7391 - val_acc: 0.8722\n",
      "Epoch 9/10\n",
      "16000/16000 [==============================] - 5s 312us/step - loss: 1.8274e-04 - acc: 1.0000 - val_loss: 0.7578 - val_acc: 0.8722\n",
      "Epoch 10/10\n",
      "16000/16000 [==============================] - 5s 316us/step - loss: 1.4664e-04 - acc: 1.0000 - val_loss: 0.7736 - val_acc: 0.8722\n"
     ]
    }
   ],
   "source": [
    "history=model.fit(xtrain_rev_1,ytrain,epochs=10, validation_split=0.2, verbose=1, batch_size=256)"
   ]
  },
  {
   "cell_type": "code",
   "execution_count": 63,
   "metadata": {
    "colab": {
     "base_uri": "https://localhost:8080/",
     "height": 51
    },
    "colab_type": "code",
    "id": "igMl0Aa8P9sx",
    "outputId": "cb700eae-143a-46cf-af8f-ff00d4140e12"
   },
   "outputs": [
    {
     "name": "stdout",
     "output_type": "stream",
     "text": [
      "5000/5000 [==============================] - 1s 173us/step\n"
     ]
    },
    {
     "data": {
      "text/plain": [
       "[0.7369248356595636, 0.8734]"
      ]
     },
     "execution_count": 63,
     "metadata": {
      "tags": []
     },
     "output_type": "execute_result"
    }
   ],
   "source": [
    "model.evaluate(xvalid_rev,yvalid)"
   ]
  },
  {
   "cell_type": "code",
   "execution_count": 64,
   "metadata": {
    "colab": {
     "base_uri": "https://localhost:8080/",
     "height": 337
    },
    "colab_type": "code",
    "id": "SLyibXEXTDQA",
    "outputId": "da396afd-6a6a-4f0f-82a0-f94c6aa587da"
   },
   "outputs": [
    {
     "data": {
      "text/plain": [
       "[<matplotlib.lines.Line2D at 0x7f42dd583c88>,\n",
       " <matplotlib.lines.Line2D at 0x7f42dd583dd8>,\n",
       " <matplotlib.lines.Line2D at 0x7f42dd56e128>,\n",
       " <matplotlib.lines.Line2D at 0x7f42dd56e470>]"
      ]
     },
     "execution_count": 64,
     "metadata": {
      "tags": []
     },
     "output_type": "execute_result"
    },
    {
     "data": {
      "image/png": "[encoded data removed]",
      "text/plain": [
       "<Figure size 432x288 with 1 Axes>"
      ]
     },
     "metadata": {
      "tags": []
     },
     "output_type": "display_data"
    }
   ],
   "source": [
    "plt.plot(history.epoch, history.history['loss'], \n",
    "        history.epoch, history.history['acc'], \n",
    "        history.epoch, history.history['val_loss'],\n",
    "        history.epoch, history.history['val_acc'])"
   ]
  },
  {
   "cell_type": "code",
   "execution_count": 0,
   "metadata": {
    "colab": {},
    "colab_type": "code",
    "id": "31OkKDFETeFi"
   },
   "outputs": [],
   "source": []
  }
 ],
 "metadata": {
  "accelerator": "GPU",
  "colab": {
   "collapsed_sections": [],
   "name": "imdb review Keras.ipynb",
   "provenance": [],
   "version": "0.3.2"
  },
  "kernelspec": {
   "display_name": "Python 3",
   "language": "python",
   "name": "python3"
  },
  "language_info": {
   "codemirror_mode": {
    "name": "ipython",
    "version": 3
   },
   "file_extension": ".py",
   "mimetype": "text/x-python",
   "name": "python",
   "nbconvert_exporter": "python",
   "pygments_lexer": "ipython3",
   "version": "3.6.5"
  }
 },
 "nbformat": 4,
 "nbformat_minor": 1
}
