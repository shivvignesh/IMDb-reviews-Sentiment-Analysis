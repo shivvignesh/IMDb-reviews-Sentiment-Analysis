{
 "cells": [
  {
   "cell_type": "code",
   "execution_count": 0,
   "metadata": {
    "colab": {},
    "colab_type": "code",
    "id": "CjKhhQOI_tYG"
   },
   "outputs": [],
   "source": [
    "import os \n",
    "import re\n",
    "\n",
    "import numpy as np\n",
    "import pandas as pd\n",
    "import matplotlib.pyplot as plt\n",
    "\n",
    "import nltk\n",
    "from nltk.stem.porter import *\n",
    "\n",
    "from sklearn.model_selection import train_test_split\n",
    "from sklearn.feature_extraction.text import CountVectorizer,TfidfVectorizer\n",
    "\n",
    "import keras\n",
    "from keras.models import Sequential\n",
    "from keras.layers import Dense,Dropout"
   ]
  },
  {
   "cell_type": "code",
   "execution_count": 2,
   "metadata": {
    "colab": {
     "base_uri": "https://localhost:8080/",
     "height": 34
    },
    "colab_type": "code",
    "id": "-iFzqVZr_4d9",
    "outputId": "50dfc91c-8d1e-44d4-da6d-53d576f43f83"
   },
   "outputs": [
    {
     "name": "stdout",
     "output_type": "stream",
     "text": [
      "Drive already mounted at /content/gdrive; to attempt to forcibly remount, call drive.mount(\"/content/gdrive\", force_remount=True).\n"
     ]
    }
   ],
   "source": [
    "from google.colab import drive\n",
    "drive.mount('/content/gdrive')"
   ]
  },
  {
   "cell_type": "code",
   "execution_count": 0,
   "metadata": {
    "colab": {},
    "colab_type": "code",
    "id": "4VFd4mM_ATRl"
   },
   "outputs": [],
   "source": [
    "data_path=os.path.join('gdrive','My Drive','Colab Notebooks','dataset.csv')"
   ]
  },
  {
   "cell_type": "code",
   "execution_count": 0,
   "metadata": {
    "colab": {},
    "colab_type": "code",
    "id": "BkIGK1zB_tYP"
   },
   "outputs": [],
   "source": [
    "data=pd.read_csv(data_path,encoding = \"ISO-8859-1\")"
   ]
  },
  {
   "cell_type": "code",
   "execution_count": 5,
   "metadata": {
    "colab": {
     "base_uri": "https://localhost:8080/",
     "height": 204
    },
    "colab_type": "code",
    "id": "9MpEPnXD_tYT",
    "outputId": "67f57897-c975-42bd-b5df-8dea80ca3a09"
   },
   "outputs": [
    {
     "data": {
      "text/html": [
       "<div>\n",
       "<style scoped>\n",
       "    .dataframe tbody tr th:only-of-type {\n",
       "        vertical-align: middle;\n",
       "    }\n",
       "\n",
       "    .dataframe tbody tr th {\n",
       "        vertical-align: top;\n",
       "    }\n",
       "\n",
       "    .dataframe thead th {\n",
       "        text-align: right;\n",
       "    }\n",
       "</style>\n",
       "<table border=\"1\" class=\"dataframe\">\n",
       "  <thead>\n",
       "    <tr style=\"text-align: right;\">\n",
       "      <th></th>\n",
       "      <th>SentimentText</th>\n",
       "      <th>Sentiment</th>\n",
       "    </tr>\n",
       "  </thead>\n",
       "  <tbody>\n",
       "    <tr>\n",
       "      <th>0</th>\n",
       "      <td>first think another Disney movie, might good, ...</td>\n",
       "      <td>1</td>\n",
       "    </tr>\n",
       "    <tr>\n",
       "      <th>1</th>\n",
       "      <td>Put aside Dr. House repeat missed, Desperate H...</td>\n",
       "      <td>0</td>\n",
       "    </tr>\n",
       "    <tr>\n",
       "      <th>2</th>\n",
       "      <td>big fan Stephen King's work, film made even gr...</td>\n",
       "      <td>1</td>\n",
       "    </tr>\n",
       "    <tr>\n",
       "      <th>3</th>\n",
       "      <td>watched horrid thing TV. Needless say one movi...</td>\n",
       "      <td>0</td>\n",
       "    </tr>\n",
       "    <tr>\n",
       "      <th>4</th>\n",
       "      <td>truly enjoyed film. acting terrific plot. Jeff...</td>\n",
       "      <td>1</td>\n",
       "    </tr>\n",
       "  </tbody>\n",
       "</table>\n",
       "</div>"
      ],
      "text/plain": [
       "                                       SentimentText  Sentiment\n",
       "0  first think another Disney movie, might good, ...          1\n",
       "1  Put aside Dr. House repeat missed, Desperate H...          0\n",
       "2  big fan Stephen King's work, film made even gr...          1\n",
       "3  watched horrid thing TV. Needless say one movi...          0\n",
       "4  truly enjoyed film. acting terrific plot. Jeff...          1"
      ]
     },
     "execution_count": 5,
     "metadata": {
      "tags": []
     },
     "output_type": "execute_result"
    }
   ],
   "source": [
    "data.head()"
   ]
  },
  {
   "cell_type": "code",
   "execution_count": 0,
   "metadata": {
    "colab": {},
    "colab_type": "code",
    "id": "W2u-O8Mz_tYc"
   },
   "outputs": [],
   "source": [
    "def remove_pattern(input_text,pattern):\n",
    "  r=re.findall(pattern,input_text)\n",
    "  for i in r:\n",
    "    input_text=re.sub(i,'',input_text)\n",
    "    \n",
    "  return input_text"
   ]
  },
  {
   "cell_type": "code",
   "execution_count": 0,
   "metadata": {
    "colab": {},
    "colab_type": "code",
    "id": "W8JrA3W0_tYg"
   },
   "outputs": [],
   "source": [
    "data['tidy']=np.vectorize(remove_pattern)(data['SentimentText'],',[\\w]*')\n",
    "data['tidy']=data['tidy'].str.replace('[^a-zA-z]',\" \")\n",
    "data['tidy']=data['tidy'].apply(lambda x:' '.join([w for w in x.split() if len(w)>2]))"
   ]
  },
  {
   "cell_type": "code",
   "execution_count": 8,
   "metadata": {
    "colab": {
     "base_uri": "https://localhost:8080/",
     "height": 204
    },
    "colab_type": "code",
    "id": "2lxbnHtN_tYj",
    "outputId": "8c1b8c76-db48-462a-ccd6-bf728988e604"
   },
   "outputs": [
    {
     "data": {
      "text/html": [
       "<div>\n",
       "<style scoped>\n",
       "    .dataframe tbody tr th:only-of-type {\n",
       "        vertical-align: middle;\n",
       "    }\n",
       "\n",
       "    .dataframe tbody tr th {\n",
       "        vertical-align: top;\n",
       "    }\n",
       "\n",
       "    .dataframe thead th {\n",
       "        text-align: right;\n",
       "    }\n",
       "</style>\n",
       "<table border=\"1\" class=\"dataframe\">\n",
       "  <thead>\n",
       "    <tr style=\"text-align: right;\">\n",
       "      <th></th>\n",
       "      <th>SentimentText</th>\n",
       "      <th>Sentiment</th>\n",
       "      <th>tidy</th>\n",
       "    </tr>\n",
       "  </thead>\n",
       "  <tbody>\n",
       "    <tr>\n",
       "      <th>0</th>\n",
       "      <td>first think another Disney movie, might good, ...</td>\n",
       "      <td>1</td>\n",
       "      <td>first think another Disney movie might good ki...</td>\n",
       "    </tr>\n",
       "    <tr>\n",
       "      <th>1</th>\n",
       "      <td>Put aside Dr. House repeat missed, Desperate H...</td>\n",
       "      <td>0</td>\n",
       "      <td>Put aside House repeat missed Desperate Housew...</td>\n",
       "    </tr>\n",
       "    <tr>\n",
       "      <th>2</th>\n",
       "      <td>big fan Stephen King's work, film made even gr...</td>\n",
       "      <td>1</td>\n",
       "      <td>big fan Stephen King work film made even great...</td>\n",
       "    </tr>\n",
       "    <tr>\n",
       "      <th>3</th>\n",
       "      <td>watched horrid thing TV. Needless say one movi...</td>\n",
       "      <td>0</td>\n",
       "      <td>watched horrid thing Needless say one movies w...</td>\n",
       "    </tr>\n",
       "    <tr>\n",
       "      <th>4</th>\n",
       "      <td>truly enjoyed film. acting terrific plot. Jeff...</td>\n",
       "      <td>1</td>\n",
       "      <td>truly enjoyed film acting terrific plot Jeff C...</td>\n",
       "    </tr>\n",
       "  </tbody>\n",
       "</table>\n",
       "</div>"
      ],
      "text/plain": [
       "                                       SentimentText  Sentiment  \\\n",
       "0  first think another Disney movie, might good, ...          1   \n",
       "1  Put aside Dr. House repeat missed, Desperate H...          0   \n",
       "2  big fan Stephen King's work, film made even gr...          1   \n",
       "3  watched horrid thing TV. Needless say one movi...          0   \n",
       "4  truly enjoyed film. acting terrific plot. Jeff...          1   \n",
       "\n",
       "                                                tidy  \n",
       "0  first think another Disney movie might good ki...  \n",
       "1  Put aside House repeat missed Desperate Housew...  \n",
       "2  big fan Stephen King work film made even great...  \n",
       "3  watched horrid thing Needless say one movies w...  \n",
       "4  truly enjoyed film acting terrific plot Jeff C...  "
      ]
     },
     "execution_count": 8,
     "metadata": {
      "tags": []
     },
     "output_type": "execute_result"
    }
   ],
   "source": [
    "data.head()"
   ]
  },
  {
   "cell_type": "code",
   "execution_count": 9,
   "metadata": {
    "colab": {
     "base_uri": "https://localhost:8080/",
     "height": 119
    },
    "colab_type": "code",
    "id": "doov75pR_tYs",
    "outputId": "8df38906-b219-47bf-dfdc-405ff42699fb"
   },
   "outputs": [
    {
     "data": {
      "text/plain": [
       "0    [first, think, another, Disney, movie, might, ...\n",
       "1    [Put, aside, House, repeat, missed, Desperate,...\n",
       "2    [big, fan, Stephen, King, work, film, made, ev...\n",
       "3    [watched, horrid, thing, Needless, say, one, m...\n",
       "4    [truly, enjoyed, film, acting, terrific, plot,...\n",
       "Name: tidy, dtype: object"
      ]
     },
     "execution_count": 9,
     "metadata": {
      "tags": []
     },
     "output_type": "execute_result"
    }
   ],
   "source": [
    "tokenized_review=data['tidy'].apply(lambda x:x.split())\n",
    "tokenized_review.head()"
   ]
  },
  {
   "cell_type": "code",
   "execution_count": 0,
   "metadata": {
    "colab": {},
    "colab_type": "code",
    "id": "-srigDLC_tYx"
   },
   "outputs": [],
   "source": [
    "stemmer=PorterStemmer()"
   ]
  },
  {
   "cell_type": "code",
   "execution_count": 0,
   "metadata": {
    "colab": {},
    "colab_type": "code",
    "id": "h_eitlee_tY0"
   },
   "outputs": [],
   "source": [
    "tokenized_review=tokenized_review.apply(lambda x:[stemmer.stem(i) for i in x])"
   ]
  },
  {
   "cell_type": "code",
   "execution_count": 12,
   "metadata": {
    "colab": {
     "base_uri": "https://localhost:8080/",
     "height": 119
    },
    "colab_type": "code",
    "id": "ylFnAD7Q_tY5",
    "outputId": "8ca5cff0-adc4-4cf9-d87b-3907f6c357c6"
   },
   "outputs": [
    {
     "data": {
      "text/plain": [
       "0    [first, think, anoth, disney, movi, might, goo...\n",
       "1    [put, asid, hous, repeat, miss, desper, housew...\n",
       "2    [big, fan, stephen, king, work, film, made, ev...\n",
       "3    [watch, horrid, thing, needless, say, one, mov...\n",
       "4    [truli, enjoy, film, act, terrif, plot, jeff, ...\n",
       "Name: tidy, dtype: object"
      ]
     },
     "execution_count": 12,
     "metadata": {
      "tags": []
     },
     "output_type": "execute_result"
    }
   ],
   "source": [
    "tokenized_review.head()"
   ]
  },
  {
   "cell_type": "code",
   "execution_count": 0,
   "metadata": {
    "colab": {},
    "colab_type": "code",
    "id": "1ctAkPAr_tZC"
   },
   "outputs": [],
   "source": [
    "for i in range(len(tokenized_review)):\n",
    "    tokenized_review[i]=' '.join(tokenized_review[i])\n",
    "\n",
    "data['tidy']=tokenized_review"
   ]
  },
  {
   "cell_type": "code",
   "execution_count": 14,
   "metadata": {
    "colab": {
     "base_uri": "https://localhost:8080/",
     "height": 204
    },
    "colab_type": "code",
    "id": "0pMRWSg1_tZF",
    "outputId": "7e71c005-cc7d-49cc-8067-6f51c41b9d83"
   },
   "outputs": [
    {
     "data": {
      "text/html": [
       "<div>\n",
       "<style scoped>\n",
       "    .dataframe tbody tr th:only-of-type {\n",
       "        vertical-align: middle;\n",
       "    }\n",
       "\n",
       "    .dataframe tbody tr th {\n",
       "        vertical-align: top;\n",
       "    }\n",
       "\n",
       "    .dataframe thead th {\n",
       "        text-align: right;\n",
       "    }\n",
       "</style>\n",
       "<table border=\"1\" class=\"dataframe\">\n",
       "  <thead>\n",
       "    <tr style=\"text-align: right;\">\n",
       "      <th></th>\n",
       "      <th>SentimentText</th>\n",
       "      <th>Sentiment</th>\n",
       "      <th>tidy</th>\n",
       "    </tr>\n",
       "  </thead>\n",
       "  <tbody>\n",
       "    <tr>\n",
       "      <th>0</th>\n",
       "      <td>first think another Disney movie, might good, ...</td>\n",
       "      <td>1</td>\n",
       "      <td>first think anoth disney movi might good kid m...</td>\n",
       "    </tr>\n",
       "    <tr>\n",
       "      <th>1</th>\n",
       "      <td>Put aside Dr. House repeat missed, Desperate H...</td>\n",
       "      <td>0</td>\n",
       "      <td>put asid hous repeat miss desper housew new wa...</td>\n",
       "    </tr>\n",
       "    <tr>\n",
       "      <th>2</th>\n",
       "      <td>big fan Stephen King's work, film made even gr...</td>\n",
       "      <td>1</td>\n",
       "      <td>big fan stephen king work film made even great...</td>\n",
       "    </tr>\n",
       "    <tr>\n",
       "      <th>3</th>\n",
       "      <td>watched horrid thing TV. Needless say one movi...</td>\n",
       "      <td>0</td>\n",
       "      <td>watch horrid thing needless say one movi watch...</td>\n",
       "    </tr>\n",
       "    <tr>\n",
       "      <th>4</th>\n",
       "      <td>truly enjoyed film. acting terrific plot. Jeff...</td>\n",
       "      <td>1</td>\n",
       "      <td>truli enjoy film act terrif plot jeff comb tal...</td>\n",
       "    </tr>\n",
       "  </tbody>\n",
       "</table>\n",
       "</div>"
      ],
      "text/plain": [
       "                                       SentimentText  Sentiment  \\\n",
       "0  first think another Disney movie, might good, ...          1   \n",
       "1  Put aside Dr. House repeat missed, Desperate H...          0   \n",
       "2  big fan Stephen King's work, film made even gr...          1   \n",
       "3  watched horrid thing TV. Needless say one movi...          0   \n",
       "4  truly enjoyed film. acting terrific plot. Jeff...          1   \n",
       "\n",
       "                                                tidy  \n",
       "0  first think anoth disney movi might good kid m...  \n",
       "1  put asid hous repeat miss desper housew new wa...  \n",
       "2  big fan stephen king work film made even great...  \n",
       "3  watch horrid thing needless say one movi watch...  \n",
       "4  truli enjoy film act terrif plot jeff comb tal...  "
      ]
     },
     "execution_count": 14,
     "metadata": {
      "tags": []
     },
     "output_type": "execute_result"
    }
   ],
   "source": [
    "data.head()"
   ]
  },
  {
   "cell_type": "code",
   "execution_count": 0,
   "metadata": {
    "colab": {},
    "colab_type": "code",
    "id": "ZBcaurl7_tZK"
   },
   "outputs": [],
   "source": [
    "all_words=' '.join([word for word in data['tidy']])"
   ]
  },
  {
   "cell_type": "code",
   "execution_count": 0,
   "metadata": {
    "colab": {},
    "colab_type": "code",
    "id": "rtqFaDzD_tZN"
   },
   "outputs": [],
   "source": [
    "all_words_list=all_words.split(' ')"
   ]
  },
  {
   "cell_type": "code",
   "execution_count": 0,
   "metadata": {
    "colab": {},
    "colab_type": "code",
    "id": "tsP3a_nc_tZR"
   },
   "outputs": [],
   "source": [
    "all_word_frame=pd.DataFrame(all_words_list)"
   ]
  },
  {
   "cell_type": "code",
   "execution_count": 0,
   "metadata": {
    "colab": {},
    "colab_type": "code",
    "id": "6mGy81gS_tZY"
   },
   "outputs": [],
   "source": [
    "X=all_word_frame[0].value_counts()"
   ]
  },
  {
   "cell_type": "code",
   "execution_count": 19,
   "metadata": {
    "colab": {
     "base_uri": "https://localhost:8080/",
     "height": 1071
    },
    "colab_type": "code",
    "id": "PeYJHRiK_tZc",
    "outputId": "bd0b39c6-2bf6-492e-f5aa-8f4d120670da"
   },
   "outputs": [
    {
     "data": {
      "text/plain": [
       "movi                51690\n",
       "film                48181\n",
       "one                 27728\n",
       "like                22778\n",
       "time                16188\n",
       "good                15353\n",
       "make                15205\n",
       "the                 14265\n",
       "charact             14178\n",
       "get                 14139\n",
       "see                 14109\n",
       "watch               13942\n",
       "stori               13165\n",
       "even                12897\n",
       "would               12434\n",
       "realli              11731\n",
       "well                11024\n",
       "scene               10595\n",
       "look                10042\n",
       "show                 9875\n",
       "much                 9760\n",
       "end                  9651\n",
       "peopl                9389\n",
       "bad                  9338\n",
       "great                9164\n",
       "also                 9153\n",
       "first                9060\n",
       "love                 9013\n",
       "think                8910\n",
       "don                  8847\n",
       "                    ...  \n",
       "succed                  1\n",
       "enzym                   1\n",
       "assasain                1\n",
       "odbray                  1\n",
       "auie                    1\n",
       "daker                   1\n",
       "postlesumthingor        1\n",
       "dsv                     1\n",
       "cundeif                 1\n",
       "bringleson              1\n",
       "reichdeutch             1\n",
       "phildelphia             1\n",
       "`hi                     1\n",
       "fastward                1\n",
       "berlingsk               1\n",
       "rettig                  1\n",
       "tarrytown               1\n",
       "woodifi                 1\n",
       "sharpish                1\n",
       "yakmallah               1\n",
       "picquer                 1\n",
       "trucul                  1\n",
       "cheswick                1\n",
       "kratina                 1\n",
       "encounteredbut          1\n",
       "performancesand         1\n",
       "`magnific               1\n",
       "mistuharu               1\n",
       "rougish                 1\n",
       "childreni               1\n",
       "Name: 0, Length: 51292, dtype: int64"
      ]
     },
     "execution_count": 19,
     "metadata": {
      "tags": []
     },
     "output_type": "execute_result"
    }
   ],
   "source": [
    "X"
   ]
  },
  {
   "cell_type": "code",
   "execution_count": 0,
   "metadata": {
    "colab": {},
    "colab_type": "code",
    "id": "fDMVsM0s_tZh"
   },
   "outputs": [],
   "source": [
    "df2 = pd.DataFrame(np.array(all_words.split(' ')).reshape(-1, 1), columns=['words'])"
   ]
  },
  {
   "cell_type": "code",
   "execution_count": 0,
   "metadata": {
    "colab": {},
    "colab_type": "code",
    "id": "chnJjkOz_tZl"
   },
   "outputs": [],
   "source": [
    "unique_words = list(df2['words'].str.split(' ', expand=True).stack().unique())"
   ]
  },
  {
   "cell_type": "code",
   "execution_count": 22,
   "metadata": {
    "colab": {
     "base_uri": "https://localhost:8080/",
     "height": 34
    },
    "colab_type": "code",
    "id": "Qw8aD9aO_tZv",
    "outputId": "a929a6e2-5a42-43d1-c8b7-390af2aa1d72"
   },
   "outputs": [
    {
     "data": {
      "text/plain": [
       "51292"
      ]
     },
     "execution_count": 22,
     "metadata": {
      "tags": []
     },
     "output_type": "execute_result"
    }
   ],
   "source": [
    "len(unique_words)"
   ]
  },
  {
   "cell_type": "code",
   "execution_count": 0,
   "metadata": {
    "colab": {},
    "colab_type": "code",
    "id": "2mXPbY8__tZ1"
   },
   "outputs": [],
   "source": [
    "word_counts = list(df2['words'].value_counts())"
   ]
  },
  {
   "cell_type": "code",
   "execution_count": 0,
   "metadata": {
    "colab": {},
    "colab_type": "code",
    "id": "eRquRwKm_tZ7"
   },
   "outputs": [],
   "source": [
    "df4 = pd.DataFrame(np.hstack((np.array(unique_words).reshape(-1,1),np.array(word_counts).reshape(-1,1))), columns=['words','word_count'])"
   ]
  },
  {
   "cell_type": "code",
   "execution_count": 0,
   "metadata": {
    "colab": {},
    "colab_type": "code",
    "id": "4dl-8EiP_taE"
   },
   "outputs": [],
   "source": [
    "df4_new=df4[df4['word_count'].map(len)==1]"
   ]
  },
  {
   "cell_type": "code",
   "execution_count": 0,
   "metadata": {
    "colab": {},
    "colab_type": "code",
    "id": "WbdnS-rC_taK"
   },
   "outputs": [],
   "source": [
    "df4_words_list = list(df4_new['words'])"
   ]
  },
  {
   "cell_type": "code",
   "execution_count": 0,
   "metadata": {
    "colab": {},
    "colab_type": "code",
    "id": "5mwGLFLR_taN"
   },
   "outputs": [],
   "source": [
    "unique_words=list(unique_words)"
   ]
  },
  {
   "cell_type": "code",
   "execution_count": 0,
   "metadata": {
    "colab": {},
    "colab_type": "code",
    "id": "iTHI68y6_taS"
   },
   "outputs": [],
   "source": [
    "for word in df4_words_list:\n",
    "    unique_words.remove(word)"
   ]
  },
  {
   "cell_type": "code",
   "execution_count": 29,
   "metadata": {
    "colab": {
     "base_uri": "https://localhost:8080/",
     "height": 34
    },
    "colab_type": "code",
    "id": "p-KO2PFG_taV",
    "outputId": "cb2e944e-d56f-4f78-d697-344305eb4edf"
   },
   "outputs": [
    {
     "data": {
      "text/plain": [
       "14132"
      ]
     },
     "execution_count": 29,
     "metadata": {
      "tags": []
     },
     "output_type": "execute_result"
    }
   ],
   "source": [
    "len(unique_words)"
   ]
  },
  {
   "cell_type": "code",
   "execution_count": 30,
   "metadata": {
    "colab": {
     "base_uri": "https://localhost:8080/",
     "height": 34
    },
    "colab_type": "code",
    "id": "i61m5-sn_taa",
    "outputId": "0b0761a7-678e-4d91-bc52-c70827d87557"
   },
   "outputs": [
    {
     "data": {
      "text/plain": [
       "list"
      ]
     },
     "execution_count": 30,
     "metadata": {
      "tags": []
     },
     "output_type": "execute_result"
    }
   ],
   "source": [
    "type(unique_words)"
   ]
  },
  {
   "cell_type": "code",
   "execution_count": 31,
   "metadata": {
    "colab": {
     "base_uri": "https://localhost:8080/",
     "height": 204
    },
    "colab_type": "code",
    "id": "2FimBiny_tae",
    "outputId": "3d07f966-f561-4244-92ca-6f01b7c5db66"
   },
   "outputs": [
    {
     "data": {
      "text/html": [
       "<div>\n",
       "<style scoped>\n",
       "    .dataframe tbody tr th:only-of-type {\n",
       "        vertical-align: middle;\n",
       "    }\n",
       "\n",
       "    .dataframe tbody tr th {\n",
       "        vertical-align: top;\n",
       "    }\n",
       "\n",
       "    .dataframe thead th {\n",
       "        text-align: right;\n",
       "    }\n",
       "</style>\n",
       "<table border=\"1\" class=\"dataframe\">\n",
       "  <thead>\n",
       "    <tr style=\"text-align: right;\">\n",
       "      <th></th>\n",
       "      <th>words</th>\n",
       "      <th>word_count</th>\n",
       "    </tr>\n",
       "  </thead>\n",
       "  <tbody>\n",
       "    <tr>\n",
       "      <th>14132</th>\n",
       "      <td>contemptu</td>\n",
       "      <td>9</td>\n",
       "    </tr>\n",
       "    <tr>\n",
       "      <th>14133</th>\n",
       "      <td>bicycl</td>\n",
       "      <td>9</td>\n",
       "    </tr>\n",
       "    <tr>\n",
       "      <th>14134</th>\n",
       "      <td>victrola</td>\n",
       "      <td>9</td>\n",
       "    </tr>\n",
       "    <tr>\n",
       "      <th>14135</th>\n",
       "      <td>vaccin</td>\n",
       "      <td>9</td>\n",
       "    </tr>\n",
       "    <tr>\n",
       "      <th>14136</th>\n",
       "      <td>barcelona</td>\n",
       "      <td>9</td>\n",
       "    </tr>\n",
       "  </tbody>\n",
       "</table>\n",
       "</div>"
      ],
      "text/plain": [
       "           words word_count\n",
       "14132  contemptu          9\n",
       "14133     bicycl          9\n",
       "14134   victrola          9\n",
       "14135     vaccin          9\n",
       "14136  barcelona          9"
      ]
     },
     "execution_count": 31,
     "metadata": {
      "tags": []
     },
     "output_type": "execute_result"
    }
   ],
   "source": [
    "df4_new.head()"
   ]
  },
  {
   "cell_type": "code",
   "execution_count": 0,
   "metadata": {
    "colab": {},
    "colab_type": "code",
    "id": "AIbAGXtb_tah"
   },
   "outputs": [],
   "source": [
    "new_data=data"
   ]
  },
  {
   "cell_type": "code",
   "execution_count": 33,
   "metadata": {
    "colab": {
     "base_uri": "https://localhost:8080/",
     "height": 204
    },
    "colab_type": "code",
    "id": "a_np-zsZ_tak",
    "outputId": "18e7617f-0cb4-4661-98f6-07c8ff848e01"
   },
   "outputs": [
    {
     "data": {
      "text/html": [
       "<div>\n",
       "<style scoped>\n",
       "    .dataframe tbody tr th:only-of-type {\n",
       "        vertical-align: middle;\n",
       "    }\n",
       "\n",
       "    .dataframe tbody tr th {\n",
       "        vertical-align: top;\n",
       "    }\n",
       "\n",
       "    .dataframe thead th {\n",
       "        text-align: right;\n",
       "    }\n",
       "</style>\n",
       "<table border=\"1\" class=\"dataframe\">\n",
       "  <thead>\n",
       "    <tr style=\"text-align: right;\">\n",
       "      <th></th>\n",
       "      <th>SentimentText</th>\n",
       "      <th>Sentiment</th>\n",
       "      <th>tidy</th>\n",
       "    </tr>\n",
       "  </thead>\n",
       "  <tbody>\n",
       "    <tr>\n",
       "      <th>0</th>\n",
       "      <td>first think another Disney movie, might good, ...</td>\n",
       "      <td>1</td>\n",
       "      <td>first think anoth disney movi might good kid m...</td>\n",
       "    </tr>\n",
       "    <tr>\n",
       "      <th>1</th>\n",
       "      <td>Put aside Dr. House repeat missed, Desperate H...</td>\n",
       "      <td>0</td>\n",
       "      <td>put asid hous repeat miss desper housew new wa...</td>\n",
       "    </tr>\n",
       "    <tr>\n",
       "      <th>2</th>\n",
       "      <td>big fan Stephen King's work, film made even gr...</td>\n",
       "      <td>1</td>\n",
       "      <td>big fan stephen king work film made even great...</td>\n",
       "    </tr>\n",
       "    <tr>\n",
       "      <th>3</th>\n",
       "      <td>watched horrid thing TV. Needless say one movi...</td>\n",
       "      <td>0</td>\n",
       "      <td>watch horrid thing needless say one movi watch...</td>\n",
       "    </tr>\n",
       "    <tr>\n",
       "      <th>4</th>\n",
       "      <td>truly enjoyed film. acting terrific plot. Jeff...</td>\n",
       "      <td>1</td>\n",
       "      <td>truli enjoy film act terrif plot jeff comb tal...</td>\n",
       "    </tr>\n",
       "  </tbody>\n",
       "</table>\n",
       "</div>"
      ],
      "text/plain": [
       "                                       SentimentText  Sentiment  \\\n",
       "0  first think another Disney movie, might good, ...          1   \n",
       "1  Put aside Dr. House repeat missed, Desperate H...          0   \n",
       "2  big fan Stephen King's work, film made even gr...          1   \n",
       "3  watched horrid thing TV. Needless say one movi...          0   \n",
       "4  truly enjoyed film. acting terrific plot. Jeff...          1   \n",
       "\n",
       "                                                tidy  \n",
       "0  first think anoth disney movi might good kid m...  \n",
       "1  put asid hous repeat miss desper housew new wa...  \n",
       "2  big fan stephen king work film made even great...  \n",
       "3  watch horrid thing needless say one movi watch...  \n",
       "4  truli enjoy film act terrif plot jeff comb tal...  "
      ]
     },
     "execution_count": 33,
     "metadata": {
      "tags": []
     },
     "output_type": "execute_result"
    }
   ],
   "source": [
    "new_data.head()"
   ]
  },
  {
   "cell_type": "code",
   "execution_count": 34,
   "metadata": {
    "colab": {
     "base_uri": "https://localhost:8080/",
     "height": 119
    },
    "colab_type": "code",
    "id": "xQeOf0wr_tao",
    "outputId": "dafdbd4d-69e6-4006-f3b2-e5b8b9b9cae6"
   },
   "outputs": [
    {
     "data": {
      "text/plain": [
       "0    [first, think, anoth, disney, movi, might, goo...\n",
       "1    [put, asid, hous, repeat, miss, desper, housew...\n",
       "2    [big, fan, stephen, king, work, film, made, ev...\n",
       "3    [watch, horrid, thing, needless, say, one, mov...\n",
       "4    [truli, enjoy, film, act, terrif, plot, jeff, ...\n",
       "Name: tidy, dtype: object"
      ]
     },
     "execution_count": 34,
     "metadata": {
      "tags": []
     },
     "output_type": "execute_result"
    }
   ],
   "source": [
    "tokenized_tidy=new_data['tidy'].apply(lambda x:x.split())\n",
    "tokenized_tidy.head()"
   ]
  },
  {
   "cell_type": "code",
   "execution_count": 0,
   "metadata": {
    "colab": {},
    "colab_type": "code",
    "id": "XyzwZ7lZ_tau"
   },
   "outputs": [],
   "source": [
    "for i in tokenized_tidy:\n",
    "    for j in i:\n",
    "        if j not in unique_words:\n",
    "            i.remove(j)"
   ]
  },
  {
   "cell_type": "code",
   "execution_count": 36,
   "metadata": {
    "colab": {
     "base_uri": "https://localhost:8080/",
     "height": 34
    },
    "colab_type": "code",
    "id": "PQDRqX4q_tax",
    "outputId": "d6411a51-6bcd-4198-d80f-ea40c6f60825"
   },
   "outputs": [
    {
     "data": {
      "text/plain": [
       "25000"
      ]
     },
     "execution_count": 36,
     "metadata": {
      "tags": []
     },
     "output_type": "execute_result"
    }
   ],
   "source": [
    "len(tokenized_tidy)"
   ]
  },
  {
   "cell_type": "code",
   "execution_count": 0,
   "metadata": {
    "colab": {},
    "colab_type": "code",
    "id": "3Kl_e3yn_ta2"
   },
   "outputs": [],
   "source": [
    "for i in range(len(tokenized_tidy)):\n",
    "    tokenized_tidy[i]=' '.join(tokenized_tidy[i])\n",
    "\n",
    "new_data['new_tidy']=tokenized_tidy"
   ]
  },
  {
   "cell_type": "code",
   "execution_count": 38,
   "metadata": {
    "colab": {
     "base_uri": "https://localhost:8080/",
     "height": 204
    },
    "colab_type": "code",
    "id": "6QHfLehe_ta5",
    "outputId": "01f5bb05-6d27-4a0f-9df9-35d8c2f95b9e"
   },
   "outputs": [
    {
     "data": {
      "text/html": [
       "<div>\n",
       "<style scoped>\n",
       "    .dataframe tbody tr th:only-of-type {\n",
       "        vertical-align: middle;\n",
       "    }\n",
       "\n",
       "    .dataframe tbody tr th {\n",
       "        vertical-align: top;\n",
       "    }\n",
       "\n",
       "    .dataframe thead th {\n",
       "        text-align: right;\n",
       "    }\n",
       "</style>\n",
       "<table border=\"1\" class=\"dataframe\">\n",
       "  <thead>\n",
       "    <tr style=\"text-align: right;\">\n",
       "      <th></th>\n",
       "      <th>SentimentText</th>\n",
       "      <th>Sentiment</th>\n",
       "      <th>tidy</th>\n",
       "      <th>new_tidy</th>\n",
       "    </tr>\n",
       "  </thead>\n",
       "  <tbody>\n",
       "    <tr>\n",
       "      <th>0</th>\n",
       "      <td>first think another Disney movie, might good, ...</td>\n",
       "      <td>1</td>\n",
       "      <td>first think anoth disney movi might good kid m...</td>\n",
       "      <td>first think anoth disney movi might good kid m...</td>\n",
       "    </tr>\n",
       "    <tr>\n",
       "      <th>1</th>\n",
       "      <td>Put aside Dr. House repeat missed, Desperate H...</td>\n",
       "      <td>0</td>\n",
       "      <td>put asid hous repeat miss desper housew new wa...</td>\n",
       "      <td>put asid hous repeat miss desper housew new wa...</td>\n",
       "    </tr>\n",
       "    <tr>\n",
       "      <th>2</th>\n",
       "      <td>big fan Stephen King's work, film made even gr...</td>\n",
       "      <td>1</td>\n",
       "      <td>big fan stephen king work film made even great...</td>\n",
       "      <td>big fan stephen king work film made even great...</td>\n",
       "    </tr>\n",
       "    <tr>\n",
       "      <th>3</th>\n",
       "      <td>watched horrid thing TV. Needless say one movi...</td>\n",
       "      <td>0</td>\n",
       "      <td>watch horrid thing needless say one movi watch...</td>\n",
       "      <td>watch horrid thing needless say one movi watch...</td>\n",
       "    </tr>\n",
       "    <tr>\n",
       "      <th>4</th>\n",
       "      <td>truly enjoyed film. acting terrific plot. Jeff...</td>\n",
       "      <td>1</td>\n",
       "      <td>truli enjoy film act terrif plot jeff comb tal...</td>\n",
       "      <td>truli enjoy film act terrif plot jeff comb tal...</td>\n",
       "    </tr>\n",
       "  </tbody>\n",
       "</table>\n",
       "</div>"
      ],
      "text/plain": [
       "                                       SentimentText  Sentiment  \\\n",
       "0  first think another Disney movie, might good, ...          1   \n",
       "1  Put aside Dr. House repeat missed, Desperate H...          0   \n",
       "2  big fan Stephen King's work, film made even gr...          1   \n",
       "3  watched horrid thing TV. Needless say one movi...          0   \n",
       "4  truly enjoyed film. acting terrific plot. Jeff...          1   \n",
       "\n",
       "                                                tidy  \\\n",
       "0  first think anoth disney movi might good kid m...   \n",
       "1  put asid hous repeat miss desper housew new wa...   \n",
       "2  big fan stephen king work film made even great...   \n",
       "3  watch horrid thing needless say one movi watch...   \n",
       "4  truli enjoy film act terrif plot jeff comb tal...   \n",
       "\n",
       "                                            new_tidy  \n",
       "0  first think anoth disney movi might good kid m...  \n",
       "1  put asid hous repeat miss desper housew new wa...  \n",
       "2  big fan stephen king work film made even great...  \n",
       "3  watch horrid thing needless say one movi watch...  \n",
       "4  truli enjoy film act terrif plot jeff comb tal...  "
      ]
     },
     "execution_count": 38,
     "metadata": {
      "tags": []
     },
     "output_type": "execute_result"
    }
   ],
   "source": [
    "new_data.head()"
   ]
  },
  {
   "cell_type": "code",
   "execution_count": 0,
   "metadata": {
    "colab": {},
    "colab_type": "code",
    "id": "A80llrpZ_tbB"
   },
   "outputs": [],
   "source": [
    "# from sklearn.feature_extraction.text import CountVectorizer"
   ]
  },
  {
   "cell_type": "code",
   "execution_count": 0,
   "metadata": {
    "colab": {},
    "colab_type": "code",
    "id": "Nrwbtn4L_tbD"
   },
   "outputs": [],
   "source": [
    "rev_vectorizer=CountVectorizer(stop_words='english',max_features=20000,ngram_range=(1,3))\n",
    "rev= rev_vectorizer.fit_transform(new_data['new_tidy']).todense()"
   ]
  },
  {
   "cell_type": "code",
   "execution_count": 0,
   "metadata": {
    "colab": {},
    "colab_type": "code",
    "id": "IS__sYpze5p6"
   },
   "outputs": [],
   "source": [
    "rev_tf_vectorizer=TfidfVectorizer(stop_words='english',max_features=20000,ngram_range=(1,3))\n",
    "rev_tf=rev_tf_vectorizer.fit_transform(new_data['new_tidy']).todense()"
   ]
  },
  {
   "cell_type": "code",
   "execution_count": 0,
   "metadata": {
    "colab": {},
    "colab_type": "code",
    "id": "hPQwPNwp_tbG"
   },
   "outputs": [],
   "source": [
    "# train_rev=rev\n",
    "train_rev_1=rev_tf\n",
    "xtrain_rev,xvalid_rev,ytrain,yvalid=train_test_split(train_rev_1,new_data['Sentiment'],test_size=0.2)"
   ]
  },
  {
   "cell_type": "code",
   "execution_count": 42,
   "metadata": {
    "colab": {
     "base_uri": "https://localhost:8080/",
     "height": 34
    },
    "colab_type": "code",
    "id": "Z52Zu4-9IcR_",
    "outputId": "fef1eb04-977e-4371-e778-2271dce34e38"
   },
   "outputs": [
    {
     "data": {
      "text/plain": [
       "(20000, 20000)"
      ]
     },
     "execution_count": 42,
     "metadata": {
      "tags": []
     },
     "output_type": "execute_result"
    }
   ],
   "source": [
    "xtrain_rev.shape"
   ]
  },
  {
   "cell_type": "code",
   "execution_count": 43,
   "metadata": {
    "colab": {
     "base_uri": "https://localhost:8080/",
     "height": 34
    },
    "colab_type": "code",
    "id": "-_fczRGtUrs_",
    "outputId": "3d1f1227-c2d0-4924-e1e8-cdb096e6fdde"
   },
   "outputs": [
    {
     "data": {
      "text/plain": [
       "numpy.matrix"
      ]
     },
     "execution_count": 43,
     "metadata": {
      "tags": []
     },
     "output_type": "execute_result"
    }
   ],
   "source": [
    "type(xtrain_rev)"
   ]
  },
  {
   "cell_type": "code",
   "execution_count": 0,
   "metadata": {
    "colab": {},
    "colab_type": "code",
    "id": "4spol0nlIUHU"
   },
   "outputs": [],
   "source": [
    "xtrain_rev_1=np.squeeze(np.asarray(xtrain_rev))"
   ]
  },
  {
   "cell_type": "code",
   "execution_count": 45,
   "metadata": {
    "colab": {
     "base_uri": "https://localhost:8080/",
     "height": 34
    },
    "colab_type": "code",
    "id": "h69SU08AWFl9",
    "outputId": "778270a5-ae54-4cb9-c777-a4da75b74c8d"
   },
   "outputs": [
    {
     "data": {
      "text/plain": [
       "numpy.ndarray"
      ]
     },
     "execution_count": 45,
     "metadata": {
      "tags": []
     },
     "output_type": "execute_result"
    }
   ],
   "source": [
    "type(xtrain_rev_1)"
   ]
  },
  {
   "cell_type": "code",
   "execution_count": 46,
   "metadata": {
    "colab": {
     "base_uri": "https://localhost:8080/",
     "height": 34
    },
    "colab_type": "code",
    "id": "pnGPvBFdImTK",
    "outputId": "04ba5aaf-6d97-4a02-971b-83d98d88d636"
   },
   "outputs": [
    {
     "data": {
      "text/plain": [
       "(20000, 20000)"
      ]
     },
     "execution_count": 46,
     "metadata": {
      "tags": []
     },
     "output_type": "execute_result"
    }
   ],
   "source": [
    "xtrain_rev_1.shape"
   ]
  },
  {
   "cell_type": "code",
   "execution_count": 0,
   "metadata": {
    "colab": {},
    "colab_type": "code",
    "id": "6HieLElTLXIu"
   },
   "outputs": [],
   "source": [
    "xtrain_rev_1=xtrain_rev_1.reshape(-1,20000)"
   ]
  },
  {
   "cell_type": "code",
   "execution_count": 48,
   "metadata": {
    "colab": {
     "base_uri": "https://localhost:8080/",
     "height": 34
    },
    "colab_type": "code",
    "id": "RyY9z2pELfiv",
    "outputId": "231584f0-90f1-4beb-e46f-228e46b8f2db"
   },
   "outputs": [
    {
     "data": {
      "text/plain": [
       "(20000,)"
      ]
     },
     "execution_count": 48,
     "metadata": {
      "tags": []
     },
     "output_type": "execute_result"
    }
   ],
   "source": [
    "xtrain_rev_1[1].shape"
   ]
  },
  {
   "cell_type": "code",
   "execution_count": 0,
   "metadata": {
    "colab": {},
    "colab_type": "code",
    "id": "r_mIQeAg_tbc"
   },
   "outputs": [],
   "source": [
    "model=Sequential([Dropout(0.2,input_shape=xtrain_rev_1[1].shape),\n",
    "#                   Dense(1024,activation='relu',input_shape=xtrain_rev_1[1].shape,),\n",
    "                  Dense(256,activation='sigmoid',),\n",
    "                  Dropout(0.5),\n",
    "                  Dense(64,activation='tanh',),\n",
    "                  Dropout(0.5),\n",
    "                  Dense(2,activation='softmax')])"
   ]
  },
  {
   "cell_type": "code",
   "execution_count": 0,
   "metadata": {
    "colab": {},
    "colab_type": "code",
    "id": "QrXwtj4irAc9"
   },
   "outputs": [],
   "source": []
  },
  {
   "cell_type": "code",
   "execution_count": 80,
   "metadata": {
    "colab": {
     "base_uri": "https://localhost:8080/",
     "height": 340
    },
    "colab_type": "code",
    "id": "Z7rdLGbA_tbf",
    "outputId": "d16df11e-3509-4a0a-8e3a-a628a0e084d4"
   },
   "outputs": [
    {
     "name": "stdout",
     "output_type": "stream",
     "text": [
      "_________________________________________________________________\n",
      "Layer (type)                 Output Shape              Param #   \n",
      "=================================================================\n",
      "dropout_8 (Dropout)          (None, 20000)             0         \n",
      "_________________________________________________________________\n",
      "dense_16 (Dense)             (None, 256)               5120256   \n",
      "_________________________________________________________________\n",
      "dropout_9 (Dropout)          (None, 256)               0         \n",
      "_________________________________________________________________\n",
      "dense_17 (Dense)             (None, 64)                16448     \n",
      "_________________________________________________________________\n",
      "dropout_10 (Dropout)         (None, 64)                0         \n",
      "_________________________________________________________________\n",
      "dense_18 (Dense)             (None, 2)                 130       \n",
      "=================================================================\n",
      "Total params: 5,136,834\n",
      "Trainable params: 5,136,834\n",
      "Non-trainable params: 0\n",
      "_________________________________________________________________\n"
     ]
    }
   ],
   "source": [
    "model.summary()"
   ]
  },
  {
   "cell_type": "code",
   "execution_count": 0,
   "metadata": {
    "colab": {},
    "colab_type": "code",
    "id": "u0hJIsD2PQo9"
   },
   "outputs": [],
   "source": [
    "model.compile(loss='sparse_categorical_crossentropy',\n",
    "              optimizer='adam',\n",
    "              metrics=['accuracy'])"
   ]
  },
  {
   "cell_type": "code",
   "execution_count": 82,
   "metadata": {
    "colab": {
     "base_uri": "https://localhost:8080/",
     "height": 374
    },
    "colab_type": "code",
    "id": "3Wbr1mt7PuCJ",
    "outputId": "3fc927b2-b2fc-479d-c46d-c0fb51b4a83a"
   },
   "outputs": [
    {
     "name": "stdout",
     "output_type": "stream",
     "text": [
      "Train on 16000 samples, validate on 4000 samples\n",
      "Epoch 1/10\n",
      "16000/16000 [==============================] - 4s 237us/step - loss: 0.8004 - acc: 0.5137 - val_loss: 0.6625 - val_acc: 0.5155\n",
      "Epoch 2/10\n",
      "16000/16000 [==============================] - 3s 196us/step - loss: 0.7210 - acc: 0.5453 - val_loss: 0.6436 - val_acc: 0.6647\n",
      "Epoch 3/10\n",
      "16000/16000 [==============================] - 3s 193us/step - loss: 0.6844 - acc: 0.5697 - val_loss: 0.6103 - val_acc: 0.8500\n",
      "Epoch 4/10\n",
      "16000/16000 [==============================] - 3s 193us/step - loss: 0.6452 - acc: 0.6240 - val_loss: 0.5595 - val_acc: 0.8288\n",
      "Epoch 5/10\n",
      "16000/16000 [==============================] - 3s 185us/step - loss: 0.6023 - acc: 0.6713 - val_loss: 0.4823 - val_acc: 0.8270\n",
      "Epoch 6/10\n",
      "16000/16000 [==============================] - 3s 187us/step - loss: 0.5412 - acc: 0.7244 - val_loss: 0.3950 - val_acc: 0.8660\n",
      "Epoch 7/10\n",
      "16000/16000 [==============================] - 3s 186us/step - loss: 0.4784 - acc: 0.7751 - val_loss: 0.3422 - val_acc: 0.8687\n",
      "Epoch 8/10\n",
      "16000/16000 [==============================] - 3s 185us/step - loss: 0.4269 - acc: 0.8001 - val_loss: 0.3214 - val_acc: 0.8688\n",
      "Epoch 9/10\n",
      "16000/16000 [==============================] - 3s 186us/step - loss: 0.3970 - acc: 0.8219 - val_loss: 0.2982 - val_acc: 0.8840\n",
      "Epoch 10/10\n",
      "16000/16000 [==============================] - 3s 190us/step - loss: 0.3698 - acc: 0.8383 - val_loss: 0.2851 - val_acc: 0.8905\n"
     ]
    }
   ],
   "source": [
    "history=model.fit(xtrain_rev_1,ytrain,epochs=10, validation_split=0.2, verbose=1, batch_size=256)"
   ]
  },
  {
   "cell_type": "code",
   "execution_count": 83,
   "metadata": {
    "colab": {
     "base_uri": "https://localhost:8080/",
     "height": 51
    },
    "colab_type": "code",
    "id": "igMl0Aa8P9sx",
    "outputId": "ea581174-6d2f-4d35-ad00-321df3b6e712"
   },
   "outputs": [
    {
     "name": "stdout",
     "output_type": "stream",
     "text": [
      "5000/5000 [==============================] - 1s 136us/step\n"
     ]
    },
    {
     "data": {
      "text/plain": [
       "[0.288505938577652, 0.8852]"
      ]
     },
     "execution_count": 83,
     "metadata": {
      "tags": []
     },
     "output_type": "execute_result"
    }
   ],
   "source": [
    "model.evaluate(xvalid_rev,yvalid)"
   ]
  },
  {
   "cell_type": "code",
   "execution_count": 84,
   "metadata": {
    "colab": {
     "base_uri": "https://localhost:8080/",
     "height": 303
    },
    "colab_type": "code",
    "id": "SLyibXEXTDQA",
    "outputId": "bc8e001f-a513-4f2e-d778-4d240dc08dc8"
   },
   "outputs": [
    {
     "data": {
      "text/plain": [
       "[<matplotlib.lines.Line2D at 0x7ff1a6459710>,\n",
       " <matplotlib.lines.Line2D at 0x7ff1a6459860>]"
      ]
     },
     "execution_count": 84,
     "metadata": {
      "tags": []
     },
     "output_type": "execute_result"
    },
    {
     "data": {
      "image/png": "[encoded data removed]",
      "text/plain": [
       "<Figure size 432x288 with 1 Axes>"
      ]
     },
     "metadata": {
      "tags": []
     },
     "output_type": "display_data"
    }
   ],
   "source": [
    "plt.plot(history.epoch, history.history['loss'],\n",
    "         history.epoch,history.history['acc'])"
   ]
  },
  {
   "cell_type": "code",
   "execution_count": 85,
   "metadata": {
    "colab": {
     "base_uri": "https://localhost:8080/",
     "height": 286
    },
    "colab_type": "code",
    "id": "31OkKDFETeFi",
    "outputId": "ae2bc046-8047-4916-b9bd-dc564e801162"
   },
   "outputs": [
    {
     "data": {
      "text/plain": [
       "[<matplotlib.lines.Line2D at 0x7ff1b5e03898>]"
      ]
     },
     "execution_count": 85,
     "metadata": {
      "tags": []
     },
     "output_type": "execute_result"
    },
    {
     "data": {
      "image/png": "[encoded data removed]",
      "text/plain": [
       "<Figure size 432x288 with 1 Axes>"
      ]
     },
     "metadata": {
      "tags": []
     },
     "output_type": "display_data"
    }
   ],
   "source": [
    "plt.plot(history.epoch,history.history['val_loss'],\n",
    "         )"
   ]
  },
  {
   "cell_type": "code",
   "execution_count": 0,
   "metadata": {
    "colab": {},
    "colab_type": "code",
    "id": "LXClB4-O3LWP"
   },
   "outputs": [],
   "source": [
    "# "
   ]
  }
 ],
 "metadata": {
  "accelerator": "GPU",
  "colab": {
   "collapsed_sections": [],
   "name": "imdb review Keras (reduced validation loss).ipynb",
   "provenance": [],
   "version": "0.3.2"
  },
  "kernelspec": {
   "display_name": "Python 3",
   "language": "python",
   "name": "python3"
  },
  "language_info": {
   "codemirror_mode": {
    "name": "ipython",
    "version": 3
   },
   "file_extension": ".py",
   "mimetype": "text/x-python",
   "name": "python",
   "nbconvert_exporter": "python",
   "pygments_lexer": "ipython3",
   "version": "3.6.5"
  }
 },
 "nbformat": 4,
 "nbformat_minor": 1
}
